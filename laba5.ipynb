{
 "cells": [
  {
   "attachments": {},
   "cell_type": "markdown",
   "metadata": {},
   "source": [
    "1. Початковi 2D-данi представити графiчно.\n",
    "2. Розбити данi на навчальний, перевiрочний та тестовий набори. Перевiрочний набiр використати для налаштування гiперпараметрiв. Тестовий набiр використати для остаточної оцiнки якостi моделей.\n",
    "3. Побудувати ансамблi моделей, використовуючи наступнi методи AdaBoostClassifier. Розглянути рiзнi значення learning_rate та algorithm.\n",
    "4. В задачах класифiкацiї навести приклад границi рiшень decision boundaries на основi окремої моделi та ансамблю.\n",
    "Побудувати графiки на однiй координатнiй площинi (для регресiї):\n",
    "- прогнозiв на основi ансамблю,\n",
    "- прогнозiв на основi окремої моделi base_estimator / estimators,\n",
    "- точок даних з перевiрочної / тестової множин.\n",
    "\n",
    "5. Розрахувати значення змiщення та дисперсiї для окремої моделi та ансамблю.\n",
    "\n",
    "\n"
   ]
  },
  {
   "cell_type": "code",
   "execution_count": 1,
   "metadata": {},
   "outputs": [
    {
     "data": {
      "text/plain": [
       "Generator(PCG64) at 0x240C0CAE900"
      ]
     },
     "execution_count": 1,
     "metadata": {},
     "output_type": "execute_result"
    }
   ],
   "source": [
    "import matplotlib.pyplot as plt\n",
    "from sklearn.datasets import fetch_covtype\n",
    "from sklearn.model_selection import train_test_split\n",
    "import sklearn.metrics as metrics\n",
    "import seaborn as sns\n",
    "import pandas as pd\n",
    "import numpy as np\n",
    "from random import sample\n",
    "\n",
    "np.random.default_rng(111)"
   ]
  },
  {
   "cell_type": "code",
   "execution_count": 2,
   "metadata": {},
   "outputs": [],
   "source": [
    "X, y = fetch_covtype(return_X_y=True, as_frame=True)\n",
    "data = pd.concat([X, y], axis=1)"
   ]
  },
  {
   "attachments": {},
   "cell_type": "markdown",
   "metadata": {},
   "source": [
    "Оскільки це надвеликий набір, то я залишила від нього лише 25 рандомних рядків"
   ]
  },
  {
   "cell_type": "code",
   "execution_count": 3,
   "metadata": {},
   "outputs": [],
   "source": [
    "dataset = data.sample(n=100)"
   ]
  },
  {
   "cell_type": "code",
   "execution_count": 4,
   "metadata": {},
   "outputs": [
    {
     "data": {
      "text/html": [
       "<div>\n",
       "<style scoped>\n",
       "    .dataframe tbody tr th:only-of-type {\n",
       "        vertical-align: middle;\n",
       "    }\n",
       "\n",
       "    .dataframe tbody tr th {\n",
       "        vertical-align: top;\n",
       "    }\n",
       "\n",
       "    .dataframe thead th {\n",
       "        text-align: right;\n",
       "    }\n",
       "</style>\n",
       "<table border=\"1\" class=\"dataframe\">\n",
       "  <thead>\n",
       "    <tr style=\"text-align: right;\">\n",
       "      <th></th>\n",
       "      <th>Elevation</th>\n",
       "      <th>Aspect</th>\n",
       "      <th>Slope</th>\n",
       "      <th>Horizontal_Distance_To_Hydrology</th>\n",
       "      <th>Vertical_Distance_To_Hydrology</th>\n",
       "      <th>Horizontal_Distance_To_Roadways</th>\n",
       "      <th>Hillshade_9am</th>\n",
       "      <th>Hillshade_Noon</th>\n",
       "      <th>Hillshade_3pm</th>\n",
       "      <th>Horizontal_Distance_To_Fire_Points</th>\n",
       "      <th>...</th>\n",
       "      <th>Soil_Type_31</th>\n",
       "      <th>Soil_Type_32</th>\n",
       "      <th>Soil_Type_33</th>\n",
       "      <th>Soil_Type_34</th>\n",
       "      <th>Soil_Type_35</th>\n",
       "      <th>Soil_Type_36</th>\n",
       "      <th>Soil_Type_37</th>\n",
       "      <th>Soil_Type_38</th>\n",
       "      <th>Soil_Type_39</th>\n",
       "      <th>Cover_Type</th>\n",
       "    </tr>\n",
       "  </thead>\n",
       "  <tbody>\n",
       "    <tr>\n",
       "      <th>568038</th>\n",
       "      <td>2718.0</td>\n",
       "      <td>105.0</td>\n",
       "      <td>17.0</td>\n",
       "      <td>255.0</td>\n",
       "      <td>65.0</td>\n",
       "      <td>1908.0</td>\n",
       "      <td>246.0</td>\n",
       "      <td>218.0</td>\n",
       "      <td>95.0</td>\n",
       "      <td>1065.0</td>\n",
       "      <td>...</td>\n",
       "      <td>0.0</td>\n",
       "      <td>0.0</td>\n",
       "      <td>0.0</td>\n",
       "      <td>0.0</td>\n",
       "      <td>0.0</td>\n",
       "      <td>0.0</td>\n",
       "      <td>0.0</td>\n",
       "      <td>0.0</td>\n",
       "      <td>0.0</td>\n",
       "      <td>2</td>\n",
       "    </tr>\n",
       "    <tr>\n",
       "      <th>357338</th>\n",
       "      <td>2563.0</td>\n",
       "      <td>137.0</td>\n",
       "      <td>22.0</td>\n",
       "      <td>108.0</td>\n",
       "      <td>25.0</td>\n",
       "      <td>1250.0</td>\n",
       "      <td>247.0</td>\n",
       "      <td>226.0</td>\n",
       "      <td>96.0</td>\n",
       "      <td>1237.0</td>\n",
       "      <td>...</td>\n",
       "      <td>0.0</td>\n",
       "      <td>0.0</td>\n",
       "      <td>0.0</td>\n",
       "      <td>0.0</td>\n",
       "      <td>0.0</td>\n",
       "      <td>0.0</td>\n",
       "      <td>0.0</td>\n",
       "      <td>0.0</td>\n",
       "      <td>0.0</td>\n",
       "      <td>3</td>\n",
       "    </tr>\n",
       "    <tr>\n",
       "      <th>94699</th>\n",
       "      <td>2682.0</td>\n",
       "      <td>122.0</td>\n",
       "      <td>11.0</td>\n",
       "      <td>60.0</td>\n",
       "      <td>2.0</td>\n",
       "      <td>1041.0</td>\n",
       "      <td>238.0</td>\n",
       "      <td>232.0</td>\n",
       "      <td>123.0</td>\n",
       "      <td>2021.0</td>\n",
       "      <td>...</td>\n",
       "      <td>0.0</td>\n",
       "      <td>0.0</td>\n",
       "      <td>0.0</td>\n",
       "      <td>0.0</td>\n",
       "      <td>0.0</td>\n",
       "      <td>0.0</td>\n",
       "      <td>0.0</td>\n",
       "      <td>0.0</td>\n",
       "      <td>0.0</td>\n",
       "      <td>2</td>\n",
       "    </tr>\n",
       "    <tr>\n",
       "      <th>417639</th>\n",
       "      <td>3104.0</td>\n",
       "      <td>118.0</td>\n",
       "      <td>18.0</td>\n",
       "      <td>240.0</td>\n",
       "      <td>81.0</td>\n",
       "      <td>2806.0</td>\n",
       "      <td>248.0</td>\n",
       "      <td>221.0</td>\n",
       "      <td>95.0</td>\n",
       "      <td>1209.0</td>\n",
       "      <td>...</td>\n",
       "      <td>0.0</td>\n",
       "      <td>1.0</td>\n",
       "      <td>0.0</td>\n",
       "      <td>0.0</td>\n",
       "      <td>0.0</td>\n",
       "      <td>0.0</td>\n",
       "      <td>0.0</td>\n",
       "      <td>0.0</td>\n",
       "      <td>0.0</td>\n",
       "      <td>2</td>\n",
       "    </tr>\n",
       "    <tr>\n",
       "      <th>215011</th>\n",
       "      <td>3062.0</td>\n",
       "      <td>87.0</td>\n",
       "      <td>13.0</td>\n",
       "      <td>153.0</td>\n",
       "      <td>22.0</td>\n",
       "      <td>1259.0</td>\n",
       "      <td>239.0</td>\n",
       "      <td>217.0</td>\n",
       "      <td>106.0</td>\n",
       "      <td>2177.0</td>\n",
       "      <td>...</td>\n",
       "      <td>0.0</td>\n",
       "      <td>0.0</td>\n",
       "      <td>0.0</td>\n",
       "      <td>0.0</td>\n",
       "      <td>0.0</td>\n",
       "      <td>0.0</td>\n",
       "      <td>0.0</td>\n",
       "      <td>0.0</td>\n",
       "      <td>0.0</td>\n",
       "      <td>2</td>\n",
       "    </tr>\n",
       "    <tr>\n",
       "      <th>...</th>\n",
       "      <td>...</td>\n",
       "      <td>...</td>\n",
       "      <td>...</td>\n",
       "      <td>...</td>\n",
       "      <td>...</td>\n",
       "      <td>...</td>\n",
       "      <td>...</td>\n",
       "      <td>...</td>\n",
       "      <td>...</td>\n",
       "      <td>...</td>\n",
       "      <td>...</td>\n",
       "      <td>...</td>\n",
       "      <td>...</td>\n",
       "      <td>...</td>\n",
       "      <td>...</td>\n",
       "      <td>...</td>\n",
       "      <td>...</td>\n",
       "      <td>...</td>\n",
       "      <td>...</td>\n",
       "      <td>...</td>\n",
       "      <td>...</td>\n",
       "    </tr>\n",
       "    <tr>\n",
       "      <th>426081</th>\n",
       "      <td>3189.0</td>\n",
       "      <td>83.0</td>\n",
       "      <td>25.0</td>\n",
       "      <td>268.0</td>\n",
       "      <td>85.0</td>\n",
       "      <td>2808.0</td>\n",
       "      <td>245.0</td>\n",
       "      <td>189.0</td>\n",
       "      <td>59.0</td>\n",
       "      <td>1548.0</td>\n",
       "      <td>...</td>\n",
       "      <td>0.0</td>\n",
       "      <td>0.0</td>\n",
       "      <td>0.0</td>\n",
       "      <td>0.0</td>\n",
       "      <td>0.0</td>\n",
       "      <td>0.0</td>\n",
       "      <td>0.0</td>\n",
       "      <td>0.0</td>\n",
       "      <td>0.0</td>\n",
       "      <td>1</td>\n",
       "    </tr>\n",
       "    <tr>\n",
       "      <th>533561</th>\n",
       "      <td>3233.0</td>\n",
       "      <td>279.0</td>\n",
       "      <td>11.0</td>\n",
       "      <td>787.0</td>\n",
       "      <td>15.0</td>\n",
       "      <td>3407.0</td>\n",
       "      <td>188.0</td>\n",
       "      <td>241.0</td>\n",
       "      <td>193.0</td>\n",
       "      <td>1082.0</td>\n",
       "      <td>...</td>\n",
       "      <td>0.0</td>\n",
       "      <td>0.0</td>\n",
       "      <td>0.0</td>\n",
       "      <td>0.0</td>\n",
       "      <td>0.0</td>\n",
       "      <td>0.0</td>\n",
       "      <td>0.0</td>\n",
       "      <td>0.0</td>\n",
       "      <td>0.0</td>\n",
       "      <td>1</td>\n",
       "    </tr>\n",
       "    <tr>\n",
       "      <th>166619</th>\n",
       "      <td>3230.0</td>\n",
       "      <td>0.0</td>\n",
       "      <td>11.0</td>\n",
       "      <td>700.0</td>\n",
       "      <td>69.0</td>\n",
       "      <td>4158.0</td>\n",
       "      <td>204.0</td>\n",
       "      <td>220.0</td>\n",
       "      <td>153.0</td>\n",
       "      <td>3469.0</td>\n",
       "      <td>...</td>\n",
       "      <td>0.0</td>\n",
       "      <td>0.0</td>\n",
       "      <td>0.0</td>\n",
       "      <td>0.0</td>\n",
       "      <td>0.0</td>\n",
       "      <td>0.0</td>\n",
       "      <td>0.0</td>\n",
       "      <td>0.0</td>\n",
       "      <td>0.0</td>\n",
       "      <td>1</td>\n",
       "    </tr>\n",
       "    <tr>\n",
       "      <th>319657</th>\n",
       "      <td>3042.0</td>\n",
       "      <td>99.0</td>\n",
       "      <td>9.0</td>\n",
       "      <td>390.0</td>\n",
       "      <td>70.0</td>\n",
       "      <td>2415.0</td>\n",
       "      <td>235.0</td>\n",
       "      <td>228.0</td>\n",
       "      <td>123.0</td>\n",
       "      <td>2311.0</td>\n",
       "      <td>...</td>\n",
       "      <td>1.0</td>\n",
       "      <td>0.0</td>\n",
       "      <td>0.0</td>\n",
       "      <td>0.0</td>\n",
       "      <td>0.0</td>\n",
       "      <td>0.0</td>\n",
       "      <td>0.0</td>\n",
       "      <td>0.0</td>\n",
       "      <td>0.0</td>\n",
       "      <td>1</td>\n",
       "    </tr>\n",
       "    <tr>\n",
       "      <th>114705</th>\n",
       "      <td>2723.0</td>\n",
       "      <td>47.0</td>\n",
       "      <td>8.0</td>\n",
       "      <td>150.0</td>\n",
       "      <td>47.0</td>\n",
       "      <td>1253.0</td>\n",
       "      <td>223.0</td>\n",
       "      <td>223.0</td>\n",
       "      <td>135.0</td>\n",
       "      <td>1953.0</td>\n",
       "      <td>...</td>\n",
       "      <td>0.0</td>\n",
       "      <td>0.0</td>\n",
       "      <td>0.0</td>\n",
       "      <td>0.0</td>\n",
       "      <td>0.0</td>\n",
       "      <td>0.0</td>\n",
       "      <td>0.0</td>\n",
       "      <td>0.0</td>\n",
       "      <td>0.0</td>\n",
       "      <td>2</td>\n",
       "    </tr>\n",
       "  </tbody>\n",
       "</table>\n",
       "<p>100 rows × 55 columns</p>\n",
       "</div>"
      ],
      "text/plain": [
       "        Elevation  Aspect  Slope  Horizontal_Distance_To_Hydrology  \\\n",
       "568038     2718.0   105.0   17.0                             255.0   \n",
       "357338     2563.0   137.0   22.0                             108.0   \n",
       "94699      2682.0   122.0   11.0                              60.0   \n",
       "417639     3104.0   118.0   18.0                             240.0   \n",
       "215011     3062.0    87.0   13.0                             153.0   \n",
       "...           ...     ...    ...                               ...   \n",
       "426081     3189.0    83.0   25.0                             268.0   \n",
       "533561     3233.0   279.0   11.0                             787.0   \n",
       "166619     3230.0     0.0   11.0                             700.0   \n",
       "319657     3042.0    99.0    9.0                             390.0   \n",
       "114705     2723.0    47.0    8.0                             150.0   \n",
       "\n",
       "        Vertical_Distance_To_Hydrology  Horizontal_Distance_To_Roadways  \\\n",
       "568038                            65.0                           1908.0   \n",
       "357338                            25.0                           1250.0   \n",
       "94699                              2.0                           1041.0   \n",
       "417639                            81.0                           2806.0   \n",
       "215011                            22.0                           1259.0   \n",
       "...                                ...                              ...   \n",
       "426081                            85.0                           2808.0   \n",
       "533561                            15.0                           3407.0   \n",
       "166619                            69.0                           4158.0   \n",
       "319657                            70.0                           2415.0   \n",
       "114705                            47.0                           1253.0   \n",
       "\n",
       "        Hillshade_9am  Hillshade_Noon  Hillshade_3pm  \\\n",
       "568038          246.0           218.0           95.0   \n",
       "357338          247.0           226.0           96.0   \n",
       "94699           238.0           232.0          123.0   \n",
       "417639          248.0           221.0           95.0   \n",
       "215011          239.0           217.0          106.0   \n",
       "...               ...             ...            ...   \n",
       "426081          245.0           189.0           59.0   \n",
       "533561          188.0           241.0          193.0   \n",
       "166619          204.0           220.0          153.0   \n",
       "319657          235.0           228.0          123.0   \n",
       "114705          223.0           223.0          135.0   \n",
       "\n",
       "        Horizontal_Distance_To_Fire_Points  ...  Soil_Type_31  Soil_Type_32  \\\n",
       "568038                              1065.0  ...           0.0           0.0   \n",
       "357338                              1237.0  ...           0.0           0.0   \n",
       "94699                               2021.0  ...           0.0           0.0   \n",
       "417639                              1209.0  ...           0.0           1.0   \n",
       "215011                              2177.0  ...           0.0           0.0   \n",
       "...                                    ...  ...           ...           ...   \n",
       "426081                              1548.0  ...           0.0           0.0   \n",
       "533561                              1082.0  ...           0.0           0.0   \n",
       "166619                              3469.0  ...           0.0           0.0   \n",
       "319657                              2311.0  ...           1.0           0.0   \n",
       "114705                              1953.0  ...           0.0           0.0   \n",
       "\n",
       "        Soil_Type_33  Soil_Type_34  Soil_Type_35  Soil_Type_36  Soil_Type_37  \\\n",
       "568038           0.0           0.0           0.0           0.0           0.0   \n",
       "357338           0.0           0.0           0.0           0.0           0.0   \n",
       "94699            0.0           0.0           0.0           0.0           0.0   \n",
       "417639           0.0           0.0           0.0           0.0           0.0   \n",
       "215011           0.0           0.0           0.0           0.0           0.0   \n",
       "...              ...           ...           ...           ...           ...   \n",
       "426081           0.0           0.0           0.0           0.0           0.0   \n",
       "533561           0.0           0.0           0.0           0.0           0.0   \n",
       "166619           0.0           0.0           0.0           0.0           0.0   \n",
       "319657           0.0           0.0           0.0           0.0           0.0   \n",
       "114705           0.0           0.0           0.0           0.0           0.0   \n",
       "\n",
       "        Soil_Type_38  Soil_Type_39  Cover_Type  \n",
       "568038           0.0           0.0           2  \n",
       "357338           0.0           0.0           3  \n",
       "94699            0.0           0.0           2  \n",
       "417639           0.0           0.0           2  \n",
       "215011           0.0           0.0           2  \n",
       "...              ...           ...         ...  \n",
       "426081           0.0           0.0           1  \n",
       "533561           0.0           0.0           1  \n",
       "166619           0.0           0.0           1  \n",
       "319657           0.0           0.0           1  \n",
       "114705           0.0           0.0           2  \n",
       "\n",
       "[100 rows x 55 columns]"
      ]
     },
     "execution_count": 4,
     "metadata": {},
     "output_type": "execute_result"
    }
   ],
   "source": [
    "dataset"
   ]
  },
  {
   "cell_type": "code",
   "execution_count": 5,
   "metadata": {},
   "outputs": [],
   "source": [
    "y = dataset['Cover_Type']\n",
    "X = dataset.drop('Cover_Type', axis=1)"
   ]
  },
  {
   "cell_type": "code",
   "execution_count": 6,
   "metadata": {},
   "outputs": [],
   "source": [
    "#Розбити данi на навчальний, перевiрочний та тестовий набори.\n",
    "X_train, X_test, Y_train, Y_test = \\\n",
    "    train_test_split(X, y,\n",
    "                     test_size=0.20,\n",
    "                     random_state=111)\n"
   ]
  },
  {
   "cell_type": "code",
   "execution_count": 7,
   "metadata": {},
   "outputs": [],
   "source": [
    "def scoring_and_matrix(y_true, y_predicted):\n",
    "    confussion = metrics.confusion_matrix(y_true, y_predicted)\n",
    "    sns.heatmap(confussion, annot=True, fmt='g', cmap='Blues')\n",
    "    print(f'accuracy: {metrics.accuracy_score(y_true, y_predicted)} \\n \\\n",
    "    precision: {metrics.precision_score(y_true, y_predicted, average=\"micro\")} \\n \\\n",
    "    recall: {metrics.recall_score(y_true, y_predicted, average=\"micro\")} \\n \\\n",
    "    f1_score: {metrics.f1_score(y_true, y_predicted, average=\"micro\")}' )"
   ]
  },
  {
   "cell_type": "code",
   "execution_count": 8,
   "metadata": {},
   "outputs": [],
   "source": [
    "def gridsearchscore(classifier):\n",
    "    print(f'Best score: {classifier.best_score_}, Best params: {classifier.best_params_}')"
   ]
  },
  {
   "attachments": {},
   "cell_type": "markdown",
   "metadata": {},
   "source": [
    "Розглянемо кореляцію ознак, бвчимо що мультиколлінеарності немає"
   ]
  },
  {
   "cell_type": "code",
   "execution_count": 9,
   "metadata": {},
   "outputs": [
    {
     "data": {
      "text/plain": [
       "<AxesSubplot:>"
      ]
     },
     "execution_count": 9,
     "metadata": {},
     "output_type": "execute_result"
    },
    {
     "data": {
      "image/png": "[encoded data removed]",
      "text/plain": [
       "<Figure size 432x288 with 2 Axes>"
      ]
     },
     "metadata": {
      "needs_background": "light"
     },
     "output_type": "display_data"
    }
   ],
   "source": [
    "sns.heatmap(X_train.iloc[:, :14].corr(), annot=True)"
   ]
  },
  {
   "attachments": {},
   "cell_type": "markdown",
   "metadata": {},
   "source": [
    "Розглянемо різні значення n_estimators, learning_rate та algorithm в ансамблях моделей AdaBoostClassifier"
   ]
  },
  {
   "attachments": {},
   "cell_type": "markdown",
   "metadata": {},
   "source": [
    "Спершу для перевірки використаємо алгоритм з SVC"
   ]
  },
  {
   "cell_type": "code",
   "execution_count": 10,
   "metadata": {},
   "outputs": [
    {
     "name": "stdout",
     "output_type": "stream",
     "text": [
      "Accuracy: 0.55\n"
     ]
    }
   ],
   "source": [
    "from sklearn.ensemble import AdaBoostClassifier\n",
    "from sklearn.svm import SVC\n",
    "from sklearn import metrics\n",
    "\n",
    "svc=SVC(probability=True, kernel='linear')\n",
    "\n",
    "classifier = AdaBoostClassifier(base_estimator=svc, n_estimators=50, learning_rate=1, algorithm='SAMME.R')\n",
    "\n",
    "model = classifier.fit(X_train, Y_train)\n",
    "\n",
    "y_pred = model.predict(X_test)\n",
    "\n",
    "print(\"Accuracy:\", metrics.accuracy_score(Y_test, y_pred))"
   ]
  },
  {
   "cell_type": "code",
   "execution_count": 11,
   "metadata": {},
   "outputs": [
    {
     "name": "stdout",
     "output_type": "stream",
     "text": [
      "Accuracy: 0.35\n"
     ]
    }
   ],
   "source": [
    "classifier = AdaBoostClassifier(base_estimator=svc, n_estimators=50, learning_rate=1, algorithm='SAMME')\n",
    "\n",
    "model = classifier.fit(X_train, Y_train)\n",
    "\n",
    "y_pred = model.predict(X_test)\n",
    "\n",
    "print(\"Accuracy:\",metrics.accuracy_score(Y_test, y_pred))"
   ]
  },
  {
   "cell_type": "code",
   "execution_count": 12,
   "metadata": {},
   "outputs": [
    {
     "name": "stdout",
     "output_type": "stream",
     "text": [
      "Accuracy: 0.55\n"
     ]
    }
   ],
   "source": [
    "classifier = AdaBoostClassifier(base_estimator=svc, n_estimators=25, learning_rate=1, algorithm='SAMME.R')\n",
    "\n",
    "model = classifier.fit(X_train, Y_train)\n",
    "\n",
    "y_pred = model.predict(X_test)\n",
    "\n",
    "print(\"Accuracy:\",metrics.accuracy_score(Y_test, y_pred))"
   ]
  },
  {
   "cell_type": "code",
   "execution_count": 14,
   "metadata": {},
   "outputs": [
    {
     "name": "stdout",
     "output_type": "stream",
     "text": [
      "Accuracy: 0.6\n"
     ]
    }
   ],
   "source": [
    "classifier = AdaBoostClassifier(base_estimator=svc, n_estimators=50, learning_rate=0.2, algorithm='SAMME.R')\n",
    "\n",
    "model = classifier.fit(X_train, Y_train)\n",
    "\n",
    "y_pred = model.predict(X_test)\n",
    "\n",
    "print(\"Accuracy:\",metrics.accuracy_score(Y_test, y_pred))"
   ]
  },
  {
   "cell_type": "code",
   "execution_count": 15,
   "metadata": {},
   "outputs": [
    {
     "name": "stdout",
     "output_type": "stream",
     "text": [
      "accuracy: 0.6 \n",
      "     precision: 0.6 \n",
      "     recall: 0.6 \n",
      "     f1_score: 0.6\n"
     ]
    },
    {
     "data": {
      "image/png": "[encoded data removed]",
      "text/plain": [
       "<Figure size 432x288 with 2 Axes>"
      ]
     },
     "metadata": {
      "needs_background": "light"
     },
     "output_type": "display_data"
    }
   ],
   "source": [
    "y_predict = classifier.predict(X_test)\n",
    "scoring_and_matrix(Y_test, y_predict)"
   ]
  },
  {
   "cell_type": "code",
   "execution_count": 16,
   "metadata": {},
   "outputs": [
    {
     "name": "stdout",
     "output_type": "stream",
     "text": [
      "accuracy: 0.7125 \n",
      "     precision: 0.7125 \n",
      "     recall: 0.7125 \n",
      "     f1_score: 0.7125\n"
     ]
    },
    {
     "data": {
      "image/png": "[encoded data removed]",
      "text/plain": [
       "<Figure size 432x288 with 2 Axes>"
      ]
     },
     "metadata": {
      "needs_background": "light"
     },
     "output_type": "display_data"
    }
   ],
   "source": [
    "y_predict = classifier.predict(X_train)\n",
    "scoring_and_matrix(Y_train, y_predict)"
   ]
  },
  {
   "cell_type": "code",
   "execution_count": 28,
   "metadata": {},
   "outputs": [
    {
     "name": "stdout",
     "output_type": "stream",
     "text": [
      "Accuracy: 0.55\n"
     ]
    }
   ],
   "source": [
    "classifier = AdaBoostClassifier(base_estimator=svc)\n",
    "\n",
    "model = classifier.fit(X_train, Y_train)\n",
    "\n",
    "y_pred = model.predict(X_test)\n",
    "\n",
    "print(\"Accuracy:\",metrics.accuracy_score(Y_test, y_pred))"
   ]
  },
  {
   "cell_type": "code",
   "execution_count": 30,
   "metadata": {},
   "outputs": [
    {
     "name": "stdout",
     "output_type": "stream",
     "text": [
      "accuracy: 0.6 \n",
      "     precision: 0.6 \n",
      "     recall: 0.6 \n",
      "     f1_score: 0.6\n"
     ]
    },
    {
     "data": {
      "image/png": "[encoded data removed]",
      "text/plain": [
       "<Figure size 432x288 with 2 Axes>"
      ]
     },
     "metadata": {
      "needs_background": "light"
     },
     "output_type": "display_data"
    }
   ],
   "source": [
    "y_predict = classifier.predict(X_test)\n",
    "scoring_and_matrix(Y_test, y_predict)"
   ]
  },
  {
   "cell_type": "code",
   "execution_count": 31,
   "metadata": {},
   "outputs": [
    {
     "name": "stdout",
     "output_type": "stream",
     "text": [
      "accuracy: 0.7 \n",
      "     precision: 0.7 \n",
      "     recall: 0.7 \n",
      "     f1_score: 0.7\n"
     ]
    },
    {
     "data": {
      "image/png": "[encoded data removed]",
      "text/plain": [
       "<Figure size 432x288 with 2 Axes>"
      ]
     },
     "metadata": {
      "needs_background": "light"
     },
     "output_type": "display_data"
    }
   ],
   "source": [
    "y_predict = classifier.predict(X_train)\n",
    "scoring_and_matrix(Y_train, y_predict)"
   ]
  },
  {
   "attachments": {},
   "cell_type": "markdown",
   "metadata": {},
   "source": [
    "Тепер для перевірки візьмемо DecisionTreeClassifier"
   ]
  },
  {
   "cell_type": "code",
   "execution_count": 17,
   "metadata": {},
   "outputs": [
    {
     "name": "stdout",
     "output_type": "stream",
     "text": [
      "Accuracy: 0.6\n"
     ]
    }
   ],
   "source": [
    "from sklearn.tree import DecisionTreeClassifier\n",
    "classifier = AdaBoostClassifier(\n",
    "    DecisionTreeClassifier(max_depth=1), n_estimators=50, learning_rate=1, algorithm='SAMME.R')\n",
    "model = classifier.fit(X_train, Y_train) \n",
    "y_pred = model.predict(X_test)\n",
    "print(\"Accuracy:\",metrics.accuracy_score(Y_test, y_pred))"
   ]
  },
  {
   "cell_type": "code",
   "execution_count": 34,
   "metadata": {},
   "outputs": [
    {
     "name": "stdout",
     "output_type": "stream",
     "text": [
      "Accuracy: 0.6\n"
     ]
    }
   ],
   "source": [
    "classifier = AdaBoostClassifier(\n",
    "    DecisionTreeClassifier(max_depth=1),  n_estimators=100, learning_rate=1, algorithm='SAMME')\n",
    "model = classifier.fit(X_train, Y_train) \n",
    "y_pred = model.predict(X_test)\n",
    "print(\"Accuracy:\",metrics.accuracy_score(Y_test, y_pred))"
   ]
  },
  {
   "cell_type": "code",
   "execution_count": 35,
   "metadata": {},
   "outputs": [
    {
     "name": "stdout",
     "output_type": "stream",
     "text": [
      "Accuracy: 0.6\n"
     ]
    }
   ],
   "source": [
    "classifier = AdaBoostClassifier(\n",
    "    DecisionTreeClassifier(max_depth=1),  n_estimators=100, learning_rate=1, algorithm='SAMME.R')\n",
    "model = classifier.fit(X_train, Y_train) \n",
    "y_pred = model.predict(X_test)\n",
    "print(\"Accuracy:\",metrics.accuracy_score(Y_test, y_pred))"
   ]
  },
  {
   "cell_type": "code",
   "execution_count": 37,
   "metadata": {},
   "outputs": [
    {
     "name": "stdout",
     "output_type": "stream",
     "text": [
      "Accuracy: 0.5\n"
     ]
    }
   ],
   "source": [
    "classifier = AdaBoostClassifier(\n",
    "    DecisionTreeClassifier(max_depth=1),  n_estimators=100, learning_rate=0.2, algorithm='SAMME.R')\n",
    "model = classifier.fit(X_train, Y_train) \n",
    "y_pred = model.predict(X_test)\n",
    "print(\"Accuracy:\",metrics.accuracy_score(Y_test, y_pred))"
   ]
  },
  {
   "cell_type": "code",
   "execution_count": 21,
   "metadata": {},
   "outputs": [
    {
     "name": "stdout",
     "output_type": "stream",
     "text": [
      "accuracy: 0.6 \n",
      "     precision: 0.6 \n",
      "     recall: 0.6 \n",
      "     f1_score: 0.6\n"
     ]
    },
    {
     "data": {
      "image/png": "[encoded data removed]",
      "text/plain": [
       "<Figure size 432x288 with 2 Axes>"
      ]
     },
     "metadata": {
      "needs_background": "light"
     },
     "output_type": "display_data"
    }
   ],
   "source": [
    "y_predict = classifier.predict(X_train)\n",
    "scoring_and_matrix(Y_train, y_predict)"
   ]
  },
  {
   "cell_type": "code",
   "execution_count": 22,
   "metadata": {},
   "outputs": [
    {
     "name": "stdout",
     "output_type": "stream",
     "text": [
      "accuracy: 0.45 \n",
      "     precision: 0.45 \n",
      "     recall: 0.45 \n",
      "     f1_score: 0.45\n"
     ]
    },
    {
     "data": {
      "image/png": "[encoded data removed]",
      "text/plain": [
       "<Figure size 432x288 with 2 Axes>"
      ]
     },
     "metadata": {
      "needs_background": "light"
     },
     "output_type": "display_data"
    }
   ],
   "source": [
    "y_predict = classifier.predict(X_test)\n",
    "scoring_and_matrix(Y_test, y_predict)"
   ]
  },
  {
   "cell_type": "code",
   "execution_count": 29,
   "metadata": {},
   "outputs": [
    {
     "name": "stdout",
     "output_type": "stream",
     "text": [
      "Accuracy: 0.6\n"
     ]
    }
   ],
   "source": [
    "classifier = AdaBoostClassifier(\n",
    "    DecisionTreeClassifier(max_depth=1))\n",
    "model = classifier.fit(X_train, Y_train) \n",
    "y_pred = model.predict(X_test)\n",
    "print(\"Accuracy:\",metrics.accuracy_score(Y_test, y_pred))"
   ]
  },
  {
   "cell_type": "code",
   "execution_count": 32,
   "metadata": {},
   "outputs": [
    {
     "name": "stdout",
     "output_type": "stream",
     "text": [
      "accuracy: 0.7 \n",
      "     precision: 0.7 \n",
      "     recall: 0.7 \n",
      "     f1_score: 0.7\n"
     ]
    },
    {
     "data": {
      "image/png": "[encoded data removed]",
      "text/plain": [
       "<Figure size 432x288 with 2 Axes>"
      ]
     },
     "metadata": {
      "needs_background": "light"
     },
     "output_type": "display_data"
    }
   ],
   "source": [
    "y_predict = classifier.predict(X_train)\n",
    "scoring_and_matrix(Y_train, y_predict)"
   ]
  },
  {
   "cell_type": "code",
   "execution_count": 33,
   "metadata": {},
   "outputs": [
    {
     "name": "stdout",
     "output_type": "stream",
     "text": [
      "accuracy: 0.6 \n",
      "     precision: 0.6 \n",
      "     recall: 0.6 \n",
      "     f1_score: 0.6\n"
     ]
    },
    {
     "data": {
      "image/png": "[encoded data removed]",
      "text/plain": [
       "<Figure size 432x288 with 2 Axes>"
      ]
     },
     "metadata": {
      "needs_background": "light"
     },
     "output_type": "display_data"
    }
   ],
   "source": [
    "y_predict = classifier.predict(X_test)\n",
    "scoring_and_matrix(Y_test, y_predict)"
   ]
  },
  {
   "cell_type": "code",
   "execution_count": 23,
   "metadata": {},
   "outputs": [],
   "source": [
    "from sklearn.model_selection import GridSearchCV\n",
    "\n",
    "classifier = AdaBoostClassifier()\n",
    "\n",
    "parameters = {\n",
    "    'learning_rate': np.arange(0.1, 5.1, 0.1),\n",
    "    'algorithm': ['SAMME', 'SAMME.R']\n",
    "}\n",
    "\n",
    "grid_search = GridSearchCV(classifier, parameters, scoring='accuracy', n_jobs=-1, cv=5)"
   ]
  },
  {
   "cell_type": "code",
   "execution_count": 24,
   "metadata": {},
   "outputs": [
    {
     "name": "stderr",
     "output_type": "stream",
     "text": [
      "d:\\anaconda_\\lib\\site-packages\\sklearn\\model_selection\\_split.py:676: UserWarning: The least populated class in y has only 1 members, which is less than n_splits=5.\n",
      "  warnings.warn(\n"
     ]
    },
    {
     "data": {
      "text/plain": [
       "GridSearchCV(cv=5, estimator=AdaBoostClassifier(), n_jobs=-1,\n",
       "             param_grid={'algorithm': ['SAMME', 'SAMME.R'],\n",
       "                         'learning_rate': array([0.1, 0.2, 0.3, 0.4, 0.5, 0.6, 0.7, 0.8, 0.9, 1. , 1.1, 1.2, 1.3,\n",
       "       1.4, 1.5, 1.6, 1.7, 1.8, 1.9, 2. , 2.1, 2.2, 2.3, 2.4, 2.5, 2.6,\n",
       "       2.7, 2.8, 2.9, 3. , 3.1, 3.2, 3.3, 3.4, 3.5, 3.6, 3.7, 3.8, 3.9,\n",
       "       4. , 4.1, 4.2, 4.3, 4.4, 4.5, 4.6, 4.7, 4.8, 4.9, 5. ])},\n",
       "             scoring='accuracy')"
      ]
     },
     "execution_count": 24,
     "metadata": {},
     "output_type": "execute_result"
    }
   ],
   "source": [
    "grid_search.fit(X_train, Y_train)"
   ]
  },
  {
   "cell_type": "code",
   "execution_count": 39,
   "metadata": {},
   "outputs": [
    {
     "name": "stdout",
     "output_type": "stream",
     "text": [
      "Best score: 0.625, Best params: {'algorithm': 'SAMME', 'learning_rate': 0.7000000000000001}\n"
     ]
    }
   ],
   "source": [
    "gridsearchscore(grid_search)"
   ]
  },
  {
   "cell_type": "code",
   "execution_count": 25,
   "metadata": {},
   "outputs": [
    {
     "name": "stdout",
     "output_type": "stream",
     "text": [
      "accuracy: 0.5 \n",
      "     precision: 0.5 \n",
      "     recall: 0.5 \n",
      "     f1_score: 0.5\n"
     ]
    },
    {
     "data": {
      "image/png": "[encoded data removed]",
      "text/plain": [
       "<Figure size 432x288 with 2 Axes>"
      ]
     },
     "metadata": {
      "needs_background": "light"
     },
     "output_type": "display_data"
    }
   ],
   "source": [
    "scoring_and_matrix(Y_test, grid_search.predict(X_test))"
   ]
  },
  {
   "cell_type": "code",
   "execution_count": 26,
   "metadata": {},
   "outputs": [
    {
     "name": "stdout",
     "output_type": "stream",
     "text": [
      "accuracy: 0.7125 \n",
      "     precision: 0.7125 \n",
      "     recall: 0.7125 \n",
      "     f1_score: 0.7125\n"
     ]
    },
    {
     "data": {
      "image/png": "[encoded data removed]",
      "text/plain": [
       "<Figure size 432x288 with 2 Axes>"
      ]
     },
     "metadata": {
      "needs_background": "light"
     },
     "output_type": "display_data"
    }
   ],
   "source": [
    "scoring_and_matrix(Y_train, grid_search.predict(X_train))"
   ]
  },
  {
   "attachments": {},
   "cell_type": "markdown",
   "metadata": {},
   "source": [
    "### графік"
   ]
  },
  {
   "cell_type": "code",
   "execution_count": 70,
   "metadata": {},
   "outputs": [],
   "source": [
    "classifier = AdaBoostClassifier(algorithm='SAMME', learning_rate=0.7000000000000001, n_estimators=10).fit(X_train, Y_train)"
   ]
  },
  {
   "cell_type": "code",
   "execution_count": 71,
   "metadata": {},
   "outputs": [],
   "source": [
    "arr = np.array([[classifier.n_estimators, metrics.accuracy_score(Y_test, classifier.predict(X_test))]])"
   ]
  },
  {
   "cell_type": "code",
   "execution_count": 72,
   "metadata": {},
   "outputs": [],
   "source": [
    "classifier = AdaBoostClassifier(algorithm='SAMME', learning_rate=0.7000000000000001, n_estimators=20).fit(X_train, Y_train)"
   ]
  },
  {
   "cell_type": "code",
   "execution_count": 73,
   "metadata": {},
   "outputs": [],
   "source": [
    "arr = np.append(arr, values=[[classifier.n_estimators, metrics.accuracy_score(Y_test, classifier.predict(X_test))]], axis=0)"
   ]
  },
  {
   "cell_type": "code",
   "execution_count": 74,
   "metadata": {},
   "outputs": [],
   "source": [
    "classifier = AdaBoostClassifier(algorithm='SAMME', learning_rate=0.7000000000000001, n_estimators=30).fit(X_train, Y_train)"
   ]
  },
  {
   "cell_type": "code",
   "execution_count": 75,
   "metadata": {},
   "outputs": [],
   "source": [
    "arr = np.append(arr, values=[[classifier.n_estimators, metrics.accuracy_score(Y_test, classifier.predict(X_test))]], axis=0)"
   ]
  },
  {
   "cell_type": "code",
   "execution_count": 76,
   "metadata": {},
   "outputs": [],
   "source": [
    "classifier = AdaBoostClassifier(algorithm='SAMME', learning_rate=0.7000000000000001, n_estimators=40).fit(X_train, Y_train)"
   ]
  },
  {
   "cell_type": "code",
   "execution_count": 77,
   "metadata": {},
   "outputs": [],
   "source": [
    "arr = np.append(arr, values=[[classifier.n_estimators, metrics.accuracy_score(Y_test, classifier.predict(X_test))]], axis=0)"
   ]
  },
  {
   "cell_type": "code",
   "execution_count": 78,
   "metadata": {},
   "outputs": [],
   "source": [
    "classifier = AdaBoostClassifier(algorithm='SAMME', learning_rate=0.7000000000000001, n_estimators=50).fit(X_train, Y_train)"
   ]
  },
  {
   "cell_type": "code",
   "execution_count": 79,
   "metadata": {},
   "outputs": [],
   "source": [
    "arr = np.append(arr, values=[[classifier.n_estimators, metrics.accuracy_score(Y_test, classifier.predict(X_test))]], axis=0)"
   ]
  },
  {
   "cell_type": "code",
   "execution_count": 80,
   "metadata": {},
   "outputs": [],
   "source": [
    "classifier = AdaBoostClassifier(algorithm='SAMME', learning_rate=0.7000000000000001, n_estimators=60).fit(X_train, Y_train)"
   ]
  },
  {
   "cell_type": "code",
   "execution_count": 81,
   "metadata": {},
   "outputs": [],
   "source": [
    "arr = np.append(arr, values=[[classifier.n_estimators, metrics.accuracy_score(Y_test, classifier.predict(X_test))]], axis=0)"
   ]
  },
  {
   "cell_type": "code",
   "execution_count": 82,
   "metadata": {},
   "outputs": [],
   "source": [
    "classifier = AdaBoostClassifier(algorithm='SAMME', learning_rate=0.7000000000000001, n_estimators=70).fit(X_train, Y_train)"
   ]
  },
  {
   "cell_type": "code",
   "execution_count": 83,
   "metadata": {},
   "outputs": [],
   "source": [
    "arr = np.append(arr, values=[[classifier.n_estimators, metrics.accuracy_score(Y_test, classifier.predict(X_test))]], axis=0)"
   ]
  },
  {
   "cell_type": "code",
   "execution_count": 84,
   "metadata": {},
   "outputs": [
    {
     "data": {
      "text/plain": [
       "<AxesSubplot:>"
      ]
     },
     "execution_count": 84,
     "metadata": {},
     "output_type": "execute_result"
    },
    {
     "data": {
      "image/png": "[encoded data removed]",
      "text/plain": [
       "<Figure size 432x288 with 1 Axes>"
      ]
     },
     "metadata": {
      "needs_background": "light"
     },
     "output_type": "display_data"
    }
   ],
   "source": [
    "sns.lineplot(x=arr[:, 0], y=arr[:, 1])"
   ]
  },
  {
   "cell_type": "code",
   "execution_count": 85,
   "metadata": {},
   "outputs": [
    {
     "name": "stdout",
     "output_type": "stream",
     "text": [
      "MSE from bias_variance lib [avg expected loss]: 3.057\n",
      "Avg Bias: 2.530\n",
      "Avg Variance: 0.528\n"
     ]
    }
   ],
   "source": [
    "from mlxtend.evaluate import bias_variance_decomp\n",
    "mse, bias, var = bias_variance_decomp(classifier, X_train.values, Y_train.values, X_test.values, Y_test.values, loss='mse', num_rounds=200, random_seed=123)\n",
    "\n",
    "print('MSE from bias_variance lib [avg expected loss]: %.3f' % mse)\n",
    "print('Avg Bias: %.3f' % bias)\n",
    "print('Avg Variance: %.3f' % var)"
   ]
  },
  {
   "attachments": {},
   "cell_type": "markdown",
   "metadata": {},
   "source": [
    "Висновки\n",
    "\n",
    "6. Час навчання ансамблю завжди трохи більший за час моделей, які утворюють ці ансамблі. \n",
    "\n",
    "7. Зробити висновки. Чи краще на заданих даних виконується ансамбль порiвняно з iндивiдуальними моделями?\n",
    "Ні, ансамбль краще виконується на індивідуальних моделях, лише з base_estimator. Адже ансамблеві методи працюють краще, коли індивідуальні прогнозатори є якомога більш незалежними один від одного.\n",
    "\n",
    "Рiзнi значення learning_rate та algorithm було розглянуто вручну та підібрано кращі значення за допомогою grid_reasch.\n",
    "Можна зробити висновок (для алгоритму SVC), що для algorithm метод 'SAMME.R' є кращим, адже показує кращі результати та потребує меньше часу для роботи. Також кращі значення видаються при меньшому learning_rate.\n",
    "Для алгоритму DecisionTreeClassifier має значення зміна learning_rate, при меньших значеннях результати гірші.\n",
    "Два методи, SVC та DecisionTreeClassifier, при однаоих метриках, дають майже однакові результати, DecisionTreeClassifier показав себе трохи краще.\n"
   ]
  },
  {
   "cell_type": "markdown",
   "metadata": {},
   "source": []
  }
 ],
 "metadata": {
  "kernelspec": {
   "display_name": "base",
   "language": "python",
   "name": "python3"
  },
  "language_info": {
   "codemirror_mode": {
    "name": "ipython",
    "version": 3
   },
   "file_extension": ".py",
   "mimetype": "text/x-python",
   "name": "python",
   "nbconvert_exporter": "python",
   "pygments_lexer": "ipython3",
   "version": "3.9.12 (main, Apr  4 2022, 05:22:27) [MSC v.1916 64 bit (AMD64)]"
  },
  "orig_nbformat": 4,
  "vscode": {
   "interpreter": {
    "hash": "0e1c8ee70996e2c83c80cc5cc384a915b96f1433420c30a4c9f867864f120673"
   }
  }
 },
 "nbformat": 4,
 "nbformat_minor": 2
}
