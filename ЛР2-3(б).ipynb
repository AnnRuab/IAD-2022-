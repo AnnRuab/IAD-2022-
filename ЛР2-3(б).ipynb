{
 "cells": [
  {
   "cell_type": "code",
   "execution_count": 1,
   "metadata": {},
   "outputs": [
    {
     "name": "stdout",
     "output_type": "stream",
     "text": [
      "URL_LENGTH                   0\n",
      "NUMBER_SPECIAL_CHARACTERS    0\n",
      "TCP_CONVERSATION_EXCHANGE    0\n",
      "DIST_REMOTE_TCP_PORT         0\n",
      "REMOTE_IPS                   0\n",
      "APP_BYTES                    0\n",
      "SOURCE_APP_PACKETS           0\n",
      "REMOTE_APP_PACKETS           0\n",
      "SOURCE_APP_BYTES             0\n",
      "REMOTE_APP_BYTES             0\n",
      "APP_PACKETS                  0\n",
      "DNS_QUERY_TIMES              0\n",
      "Type                         0\n",
      "dtype: int64\n"
     ]
    }
   ],
   "source": [
    "import pandas as pd\n",
    "import numpy as np\n",
    "from sklearn.svm import LinearSVC\n",
    "dataset = pd.read_csv('dataset.csv')\n",
    "dataset.describe(include='all')\n",
    "dataset.isnull().sum()\n",
    "#droping not required records(not needed columns)\n",
    "dataset.dropna(inplace=True)\n",
    "dataset.drop(['URL', 'CONTENT_LENGTH', 'CHARSET', 'SERVER', 'WHOIS_COUNTRY',\n",
    "             'WHOIS_STATEPRO', 'WHOIS_REGDATE', 'WHOIS_UPDATED_DATE'], axis=1, inplace=True)\n",
    "print(dataset.isnull().sum())\n"
   ]
  },
  {
   "cell_type": "code",
   "execution_count": 2,
   "metadata": {},
   "outputs": [
    {
     "data": {
      "text/html": [
       "<div>\n",
       "<style scoped>\n",
       "    .dataframe tbody tr th:only-of-type {\n",
       "        vertical-align: middle;\n",
       "    }\n",
       "\n",
       "    .dataframe tbody tr th {\n",
       "        vertical-align: top;\n",
       "    }\n",
       "\n",
       "    .dataframe thead th {\n",
       "        text-align: right;\n",
       "    }\n",
       "</style>\n",
       "<table border=\"1\" class=\"dataframe\">\n",
       "  <thead>\n",
       "    <tr style=\"text-align: right;\">\n",
       "      <th></th>\n",
       "      <th>URL_LENGTH</th>\n",
       "      <th>NUMBER_SPECIAL_CHARACTERS</th>\n",
       "      <th>TCP_CONVERSATION_EXCHANGE</th>\n",
       "      <th>DIST_REMOTE_TCP_PORT</th>\n",
       "      <th>REMOTE_IPS</th>\n",
       "      <th>APP_BYTES</th>\n",
       "      <th>SOURCE_APP_PACKETS</th>\n",
       "      <th>REMOTE_APP_PACKETS</th>\n",
       "      <th>SOURCE_APP_BYTES</th>\n",
       "      <th>REMOTE_APP_BYTES</th>\n",
       "      <th>APP_PACKETS</th>\n",
       "      <th>DNS_QUERY_TIMES</th>\n",
       "      <th>Type</th>\n",
       "    </tr>\n",
       "  </thead>\n",
       "  <tbody>\n",
       "    <tr>\n",
       "      <th>count</th>\n",
       "      <td>967.000000</td>\n",
       "      <td>967.000000</td>\n",
       "      <td>967.000000</td>\n",
       "      <td>967.000000</td>\n",
       "      <td>967.000000</td>\n",
       "      <td>967.000000</td>\n",
       "      <td>967.000000</td>\n",
       "      <td>967.000000</td>\n",
       "      <td>9.670000e+02</td>\n",
       "      <td>967.000000</td>\n",
       "      <td>967.000000</td>\n",
       "      <td>967.000000</td>\n",
       "      <td>967.000000</td>\n",
       "    </tr>\n",
       "    <tr>\n",
       "      <th>mean</th>\n",
       "      <td>55.560496</td>\n",
       "      <td>10.808687</td>\n",
       "      <td>16.964840</td>\n",
       "      <td>3.469493</td>\n",
       "      <td>3.188211</td>\n",
       "      <td>1720.409514</td>\n",
       "      <td>19.352637</td>\n",
       "      <td>19.382627</td>\n",
       "      <td>1.702195e+04</td>\n",
       "      <td>1904.967942</td>\n",
       "      <td>19.352637</td>\n",
       "      <td>2.380558</td>\n",
       "      <td>0.109617</td>\n",
       "    </tr>\n",
       "    <tr>\n",
       "      <th>std</th>\n",
       "      <td>25.572456</td>\n",
       "      <td>4.124311</td>\n",
       "      <td>45.139866</td>\n",
       "      <td>6.889008</td>\n",
       "      <td>3.369843</td>\n",
       "      <td>3925.800938</td>\n",
       "      <td>46.072438</td>\n",
       "      <td>50.036140</td>\n",
       "      <td>7.942383e+04</td>\n",
       "      <td>4017.962471</td>\n",
       "      <td>46.072438</td>\n",
       "      <td>2.821823</td>\n",
       "      <td>0.312574</td>\n",
       "    </tr>\n",
       "    <tr>\n",
       "      <th>min</th>\n",
       "      <td>16.000000</td>\n",
       "      <td>6.000000</td>\n",
       "      <td>0.000000</td>\n",
       "      <td>0.000000</td>\n",
       "      <td>0.000000</td>\n",
       "      <td>0.000000</td>\n",
       "      <td>0.000000</td>\n",
       "      <td>0.000000</td>\n",
       "      <td>0.000000e+00</td>\n",
       "      <td>0.000000</td>\n",
       "      <td>0.000000</td>\n",
       "      <td>0.000000</td>\n",
       "      <td>0.000000</td>\n",
       "    </tr>\n",
       "    <tr>\n",
       "      <th>25%</th>\n",
       "      <td>39.000000</td>\n",
       "      <td>8.000000</td>\n",
       "      <td>0.000000</td>\n",
       "      <td>0.000000</td>\n",
       "      <td>0.000000</td>\n",
       "      <td>0.000000</td>\n",
       "      <td>0.000000</td>\n",
       "      <td>0.000000</td>\n",
       "      <td>0.000000e+00</td>\n",
       "      <td>0.000000</td>\n",
       "      <td>0.000000</td>\n",
       "      <td>0.000000</td>\n",
       "      <td>0.000000</td>\n",
       "    </tr>\n",
       "    <tr>\n",
       "      <th>50%</th>\n",
       "      <td>49.000000</td>\n",
       "      <td>10.000000</td>\n",
       "      <td>8.000000</td>\n",
       "      <td>0.000000</td>\n",
       "      <td>2.000000</td>\n",
       "      <td>762.000000</td>\n",
       "      <td>10.000000</td>\n",
       "      <td>10.000000</td>\n",
       "      <td>8.220000e+02</td>\n",
       "      <td>880.000000</td>\n",
       "      <td>10.000000</td>\n",
       "      <td>0.000000</td>\n",
       "      <td>0.000000</td>\n",
       "    </tr>\n",
       "    <tr>\n",
       "      <th>75%</th>\n",
       "      <td>66.500000</td>\n",
       "      <td>12.000000</td>\n",
       "      <td>22.000000</td>\n",
       "      <td>4.000000</td>\n",
       "      <td>5.000000</td>\n",
       "      <td>2332.500000</td>\n",
       "      <td>26.000000</td>\n",
       "      <td>25.000000</td>\n",
       "      <td>9.382000e+03</td>\n",
       "      <td>2765.500000</td>\n",
       "      <td>26.000000</td>\n",
       "      <td>4.000000</td>\n",
       "      <td>0.000000</td>\n",
       "    </tr>\n",
       "    <tr>\n",
       "      <th>max</th>\n",
       "      <td>249.000000</td>\n",
       "      <td>43.000000</td>\n",
       "      <td>1194.000000</td>\n",
       "      <td>58.000000</td>\n",
       "      <td>17.000000</td>\n",
       "      <td>99843.000000</td>\n",
       "      <td>1198.000000</td>\n",
       "      <td>1284.000000</td>\n",
       "      <td>2.060012e+06</td>\n",
       "      <td>100151.000000</td>\n",
       "      <td>1198.000000</td>\n",
       "      <td>20.000000</td>\n",
       "      <td>1.000000</td>\n",
       "    </tr>\n",
       "  </tbody>\n",
       "</table>\n",
       "</div>"
      ],
      "text/plain": [
       "       URL_LENGTH  NUMBER_SPECIAL_CHARACTERS  TCP_CONVERSATION_EXCHANGE  \\\n",
       "count  967.000000                 967.000000                 967.000000   \n",
       "mean    55.560496                  10.808687                  16.964840   \n",
       "std     25.572456                   4.124311                  45.139866   \n",
       "min     16.000000                   6.000000                   0.000000   \n",
       "25%     39.000000                   8.000000                   0.000000   \n",
       "50%     49.000000                  10.000000                   8.000000   \n",
       "75%     66.500000                  12.000000                  22.000000   \n",
       "max    249.000000                  43.000000                1194.000000   \n",
       "\n",
       "       DIST_REMOTE_TCP_PORT  REMOTE_IPS     APP_BYTES  SOURCE_APP_PACKETS  \\\n",
       "count            967.000000  967.000000    967.000000          967.000000   \n",
       "mean               3.469493    3.188211   1720.409514           19.352637   \n",
       "std                6.889008    3.369843   3925.800938           46.072438   \n",
       "min                0.000000    0.000000      0.000000            0.000000   \n",
       "25%                0.000000    0.000000      0.000000            0.000000   \n",
       "50%                0.000000    2.000000    762.000000           10.000000   \n",
       "75%                4.000000    5.000000   2332.500000           26.000000   \n",
       "max               58.000000   17.000000  99843.000000         1198.000000   \n",
       "\n",
       "       REMOTE_APP_PACKETS  SOURCE_APP_BYTES  REMOTE_APP_BYTES  APP_PACKETS  \\\n",
       "count          967.000000      9.670000e+02        967.000000   967.000000   \n",
       "mean            19.382627      1.702195e+04       1904.967942    19.352637   \n",
       "std             50.036140      7.942383e+04       4017.962471    46.072438   \n",
       "min              0.000000      0.000000e+00          0.000000     0.000000   \n",
       "25%              0.000000      0.000000e+00          0.000000     0.000000   \n",
       "50%             10.000000      8.220000e+02        880.000000    10.000000   \n",
       "75%             25.000000      9.382000e+03       2765.500000    26.000000   \n",
       "max           1284.000000      2.060012e+06     100151.000000  1198.000000   \n",
       "\n",
       "       DNS_QUERY_TIMES        Type  \n",
       "count       967.000000  967.000000  \n",
       "mean          2.380558    0.109617  \n",
       "std           2.821823    0.312574  \n",
       "min           0.000000    0.000000  \n",
       "25%           0.000000    0.000000  \n",
       "50%           0.000000    0.000000  \n",
       "75%           4.000000    0.000000  \n",
       "max          20.000000    1.000000  "
      ]
     },
     "execution_count": 2,
     "metadata": {},
     "output_type": "execute_result"
    }
   ],
   "source": [
    "dataset.describe()"
   ]
  },
  {
   "cell_type": "code",
   "execution_count": 3,
   "metadata": {},
   "outputs": [
    {
     "data": {
      "text/plain": [
       "0    861\n",
       "1    106\n",
       "Name: Type, dtype: int64"
      ]
     },
     "execution_count": 3,
     "metadata": {},
     "output_type": "execute_result"
    }
   ],
   "source": [
    "\n",
    "dataset['Type'].value_counts()\n"
   ]
  },
  {
   "cell_type": "code",
   "execution_count": 4,
   "metadata": {},
   "outputs": [
    {
     "data": {
      "text/html": [
       "<div>\n",
       "<style scoped>\n",
       "    .dataframe tbody tr th:only-of-type {\n",
       "        vertical-align: middle;\n",
       "    }\n",
       "\n",
       "    .dataframe tbody tr th {\n",
       "        vertical-align: top;\n",
       "    }\n",
       "\n",
       "    .dataframe thead th {\n",
       "        text-align: right;\n",
       "    }\n",
       "</style>\n",
       "<table border=\"1\" class=\"dataframe\">\n",
       "  <thead>\n",
       "    <tr style=\"text-align: right;\">\n",
       "      <th></th>\n",
       "      <th>URL_LENGTH</th>\n",
       "      <th>NUMBER_SPECIAL_CHARACTERS</th>\n",
       "      <th>TCP_CONVERSATION_EXCHANGE</th>\n",
       "      <th>DIST_REMOTE_TCP_PORT</th>\n",
       "      <th>REMOTE_IPS</th>\n",
       "      <th>APP_BYTES</th>\n",
       "      <th>SOURCE_APP_PACKETS</th>\n",
       "      <th>REMOTE_APP_PACKETS</th>\n",
       "      <th>SOURCE_APP_BYTES</th>\n",
       "      <th>REMOTE_APP_BYTES</th>\n",
       "      <th>APP_PACKETS</th>\n",
       "      <th>DNS_QUERY_TIMES</th>\n",
       "      <th>Type</th>\n",
       "    </tr>\n",
       "  </thead>\n",
       "  <tbody>\n",
       "    <tr>\n",
       "      <th>count</th>\n",
       "      <td>967.00000</td>\n",
       "      <td>967.00000</td>\n",
       "      <td>967.00000</td>\n",
       "      <td>967.00000</td>\n",
       "      <td>967.00000</td>\n",
       "      <td>967.00000</td>\n",
       "      <td>967.00000</td>\n",
       "      <td>967.00000</td>\n",
       "      <td>967.00000</td>\n",
       "      <td>967.00000</td>\n",
       "      <td>967.00000</td>\n",
       "      <td>967.00000</td>\n",
       "      <td>967.00000</td>\n",
       "    </tr>\n",
       "    <tr>\n",
       "      <th>mean</th>\n",
       "      <td>0.00000</td>\n",
       "      <td>-0.00000</td>\n",
       "      <td>-0.00000</td>\n",
       "      <td>0.00000</td>\n",
       "      <td>0.00000</td>\n",
       "      <td>0.00000</td>\n",
       "      <td>0.00000</td>\n",
       "      <td>-0.00000</td>\n",
       "      <td>0.00000</td>\n",
       "      <td>-0.00000</td>\n",
       "      <td>0.00000</td>\n",
       "      <td>0.00000</td>\n",
       "      <td>0.00000</td>\n",
       "    </tr>\n",
       "    <tr>\n",
       "      <th>std</th>\n",
       "      <td>25.57246</td>\n",
       "      <td>4.12431</td>\n",
       "      <td>45.13987</td>\n",
       "      <td>6.88901</td>\n",
       "      <td>3.36984</td>\n",
       "      <td>3925.80094</td>\n",
       "      <td>46.07244</td>\n",
       "      <td>50.03614</td>\n",
       "      <td>79423.83367</td>\n",
       "      <td>4017.96247</td>\n",
       "      <td>46.07244</td>\n",
       "      <td>2.82182</td>\n",
       "      <td>0.31257</td>\n",
       "    </tr>\n",
       "    <tr>\n",
       "      <th>min</th>\n",
       "      <td>-39.56050</td>\n",
       "      <td>-4.80869</td>\n",
       "      <td>-16.96484</td>\n",
       "      <td>-3.46949</td>\n",
       "      <td>-3.18821</td>\n",
       "      <td>-1720.40951</td>\n",
       "      <td>-19.35264</td>\n",
       "      <td>-19.38263</td>\n",
       "      <td>-17021.94623</td>\n",
       "      <td>-1904.96794</td>\n",
       "      <td>-19.35264</td>\n",
       "      <td>-2.38056</td>\n",
       "      <td>-0.10962</td>\n",
       "    </tr>\n",
       "    <tr>\n",
       "      <th>25%</th>\n",
       "      <td>-16.56050</td>\n",
       "      <td>-2.80869</td>\n",
       "      <td>-16.96484</td>\n",
       "      <td>-3.46949</td>\n",
       "      <td>-3.18821</td>\n",
       "      <td>-1720.40951</td>\n",
       "      <td>-19.35264</td>\n",
       "      <td>-19.38263</td>\n",
       "      <td>-17021.94623</td>\n",
       "      <td>-1904.96794</td>\n",
       "      <td>-19.35264</td>\n",
       "      <td>-2.38056</td>\n",
       "      <td>-0.10962</td>\n",
       "    </tr>\n",
       "    <tr>\n",
       "      <th>50%</th>\n",
       "      <td>-6.56050</td>\n",
       "      <td>-0.80869</td>\n",
       "      <td>-8.96484</td>\n",
       "      <td>-3.46949</td>\n",
       "      <td>-1.18821</td>\n",
       "      <td>-958.40951</td>\n",
       "      <td>-9.35264</td>\n",
       "      <td>-9.38263</td>\n",
       "      <td>-16199.94623</td>\n",
       "      <td>-1024.96794</td>\n",
       "      <td>-9.35264</td>\n",
       "      <td>-2.38056</td>\n",
       "      <td>-0.10962</td>\n",
       "    </tr>\n",
       "    <tr>\n",
       "      <th>75%</th>\n",
       "      <td>10.93950</td>\n",
       "      <td>1.19131</td>\n",
       "      <td>5.03516</td>\n",
       "      <td>0.53051</td>\n",
       "      <td>1.81179</td>\n",
       "      <td>612.09049</td>\n",
       "      <td>6.64736</td>\n",
       "      <td>5.61737</td>\n",
       "      <td>-7639.94623</td>\n",
       "      <td>860.53206</td>\n",
       "      <td>6.64736</td>\n",
       "      <td>1.61944</td>\n",
       "      <td>-0.10962</td>\n",
       "    </tr>\n",
       "    <tr>\n",
       "      <th>max</th>\n",
       "      <td>193.43950</td>\n",
       "      <td>32.19131</td>\n",
       "      <td>1177.03516</td>\n",
       "      <td>54.53051</td>\n",
       "      <td>13.81179</td>\n",
       "      <td>98122.59049</td>\n",
       "      <td>1178.64736</td>\n",
       "      <td>1264.61737</td>\n",
       "      <td>2042990.05377</td>\n",
       "      <td>98246.03206</td>\n",
       "      <td>1178.64736</td>\n",
       "      <td>17.61944</td>\n",
       "      <td>0.89038</td>\n",
       "    </tr>\n",
       "  </tbody>\n",
       "</table>\n",
       "</div>"
      ],
      "text/plain": [
       "      URL_LENGTH NUMBER_SPECIAL_CHARACTERS TCP_CONVERSATION_EXCHANGE  \\\n",
       "count  967.00000                 967.00000                 967.00000   \n",
       "mean     0.00000                  -0.00000                  -0.00000   \n",
       "std     25.57246                   4.12431                  45.13987   \n",
       "min    -39.56050                  -4.80869                 -16.96484   \n",
       "25%    -16.56050                  -2.80869                 -16.96484   \n",
       "50%     -6.56050                  -0.80869                  -8.96484   \n",
       "75%     10.93950                   1.19131                   5.03516   \n",
       "max    193.43950                  32.19131                1177.03516   \n",
       "\n",
       "      DIST_REMOTE_TCP_PORT REMOTE_IPS    APP_BYTES SOURCE_APP_PACKETS  \\\n",
       "count            967.00000  967.00000    967.00000          967.00000   \n",
       "mean               0.00000    0.00000      0.00000            0.00000   \n",
       "std                6.88901    3.36984   3925.80094           46.07244   \n",
       "min               -3.46949   -3.18821  -1720.40951          -19.35264   \n",
       "25%               -3.46949   -3.18821  -1720.40951          -19.35264   \n",
       "50%               -3.46949   -1.18821   -958.40951           -9.35264   \n",
       "75%                0.53051    1.81179    612.09049            6.64736   \n",
       "max               54.53051   13.81179  98122.59049         1178.64736   \n",
       "\n",
       "      REMOTE_APP_PACKETS SOURCE_APP_BYTES REMOTE_APP_BYTES APP_PACKETS  \\\n",
       "count          967.00000        967.00000        967.00000   967.00000   \n",
       "mean            -0.00000          0.00000         -0.00000     0.00000   \n",
       "std             50.03614      79423.83367       4017.96247    46.07244   \n",
       "min            -19.38263     -17021.94623      -1904.96794   -19.35264   \n",
       "25%            -19.38263     -17021.94623      -1904.96794   -19.35264   \n",
       "50%             -9.38263     -16199.94623      -1024.96794    -9.35264   \n",
       "75%              5.61737      -7639.94623        860.53206     6.64736   \n",
       "max           1264.61737    2042990.05377      98246.03206  1178.64736   \n",
       "\n",
       "      DNS_QUERY_TIMES       Type  \n",
       "count       967.00000  967.00000  \n",
       "mean          0.00000    0.00000  \n",
       "std           2.82182    0.31257  \n",
       "min          -2.38056   -0.10962  \n",
       "25%          -2.38056   -0.10962  \n",
       "50%          -2.38056   -0.10962  \n",
       "75%           1.61944   -0.10962  \n",
       "max          17.61944    0.89038  "
      ]
     },
     "execution_count": 4,
     "metadata": {},
     "output_type": "execute_result"
    }
   ],
   "source": [
    "df_centered = dataset.apply( lambda x: x-x.mean())\n",
    "df_centered.describe().applymap(\"{0:.5f}\".format)"
   ]
  },
  {
   "cell_type": "code",
   "execution_count": 5,
   "metadata": {},
   "outputs": [
    {
     "data": {
      "text/html": [
       "<div>\n",
       "<style scoped>\n",
       "    .dataframe tbody tr th:only-of-type {\n",
       "        vertical-align: middle;\n",
       "    }\n",
       "\n",
       "    .dataframe tbody tr th {\n",
       "        vertical-align: top;\n",
       "    }\n",
       "\n",
       "    .dataframe thead th {\n",
       "        text-align: right;\n",
       "    }\n",
       "</style>\n",
       "<table border=\"1\" class=\"dataframe\">\n",
       "  <thead>\n",
       "    <tr style=\"text-align: right;\">\n",
       "      <th></th>\n",
       "      <th>URL_LENGTH</th>\n",
       "      <th>NUMBER_SPECIAL_CHARACTERS</th>\n",
       "      <th>TCP_CONVERSATION_EXCHANGE</th>\n",
       "      <th>DIST_REMOTE_TCP_PORT</th>\n",
       "      <th>REMOTE_IPS</th>\n",
       "      <th>APP_BYTES</th>\n",
       "      <th>SOURCE_APP_PACKETS</th>\n",
       "      <th>REMOTE_APP_PACKETS</th>\n",
       "      <th>SOURCE_APP_BYTES</th>\n",
       "      <th>REMOTE_APP_BYTES</th>\n",
       "      <th>APP_PACKETS</th>\n",
       "      <th>DNS_QUERY_TIMES</th>\n",
       "      <th>Type</th>\n",
       "    </tr>\n",
       "  </thead>\n",
       "  <tbody>\n",
       "    <tr>\n",
       "      <th>count</th>\n",
       "      <td>967.00000</td>\n",
       "      <td>967.00000</td>\n",
       "      <td>967.00000</td>\n",
       "      <td>967.00000</td>\n",
       "      <td>967.00000</td>\n",
       "      <td>967.00000</td>\n",
       "      <td>967.00000</td>\n",
       "      <td>967.00000</td>\n",
       "      <td>967.00000</td>\n",
       "      <td>967.00000</td>\n",
       "      <td>967.00000</td>\n",
       "      <td>967.00000</td>\n",
       "      <td>967.00000</td>\n",
       "    </tr>\n",
       "    <tr>\n",
       "      <th>mean</th>\n",
       "      <td>0.16979</td>\n",
       "      <td>0.12996</td>\n",
       "      <td>0.01421</td>\n",
       "      <td>0.05982</td>\n",
       "      <td>0.18754</td>\n",
       "      <td>0.01723</td>\n",
       "      <td>0.01615</td>\n",
       "      <td>0.01510</td>\n",
       "      <td>0.00826</td>\n",
       "      <td>0.01902</td>\n",
       "      <td>0.01615</td>\n",
       "      <td>0.11903</td>\n",
       "      <td>0.10962</td>\n",
       "    </tr>\n",
       "    <tr>\n",
       "      <th>std</th>\n",
       "      <td>0.10975</td>\n",
       "      <td>0.11147</td>\n",
       "      <td>0.03781</td>\n",
       "      <td>0.11878</td>\n",
       "      <td>0.19823</td>\n",
       "      <td>0.03932</td>\n",
       "      <td>0.03846</td>\n",
       "      <td>0.03897</td>\n",
       "      <td>0.03856</td>\n",
       "      <td>0.04012</td>\n",
       "      <td>0.03846</td>\n",
       "      <td>0.14109</td>\n",
       "      <td>0.31257</td>\n",
       "    </tr>\n",
       "    <tr>\n",
       "      <th>min</th>\n",
       "      <td>0.00000</td>\n",
       "      <td>0.00000</td>\n",
       "      <td>0.00000</td>\n",
       "      <td>0.00000</td>\n",
       "      <td>0.00000</td>\n",
       "      <td>0.00000</td>\n",
       "      <td>0.00000</td>\n",
       "      <td>0.00000</td>\n",
       "      <td>0.00000</td>\n",
       "      <td>0.00000</td>\n",
       "      <td>0.00000</td>\n",
       "      <td>0.00000</td>\n",
       "      <td>0.00000</td>\n",
       "    </tr>\n",
       "    <tr>\n",
       "      <th>25%</th>\n",
       "      <td>0.09871</td>\n",
       "      <td>0.05405</td>\n",
       "      <td>0.00000</td>\n",
       "      <td>0.00000</td>\n",
       "      <td>0.00000</td>\n",
       "      <td>0.00000</td>\n",
       "      <td>0.00000</td>\n",
       "      <td>0.00000</td>\n",
       "      <td>0.00000</td>\n",
       "      <td>0.00000</td>\n",
       "      <td>0.00000</td>\n",
       "      <td>0.00000</td>\n",
       "      <td>0.00000</td>\n",
       "    </tr>\n",
       "    <tr>\n",
       "      <th>50%</th>\n",
       "      <td>0.14163</td>\n",
       "      <td>0.10811</td>\n",
       "      <td>0.00670</td>\n",
       "      <td>0.00000</td>\n",
       "      <td>0.11765</td>\n",
       "      <td>0.00763</td>\n",
       "      <td>0.00835</td>\n",
       "      <td>0.00779</td>\n",
       "      <td>0.00040</td>\n",
       "      <td>0.00879</td>\n",
       "      <td>0.00835</td>\n",
       "      <td>0.00000</td>\n",
       "      <td>0.00000</td>\n",
       "    </tr>\n",
       "    <tr>\n",
       "      <th>75%</th>\n",
       "      <td>0.21674</td>\n",
       "      <td>0.16216</td>\n",
       "      <td>0.01843</td>\n",
       "      <td>0.06897</td>\n",
       "      <td>0.29412</td>\n",
       "      <td>0.02336</td>\n",
       "      <td>0.02170</td>\n",
       "      <td>0.01947</td>\n",
       "      <td>0.00455</td>\n",
       "      <td>0.02761</td>\n",
       "      <td>0.02170</td>\n",
       "      <td>0.20000</td>\n",
       "      <td>0.00000</td>\n",
       "    </tr>\n",
       "    <tr>\n",
       "      <th>max</th>\n",
       "      <td>1.00000</td>\n",
       "      <td>1.00000</td>\n",
       "      <td>1.00000</td>\n",
       "      <td>1.00000</td>\n",
       "      <td>1.00000</td>\n",
       "      <td>1.00000</td>\n",
       "      <td>1.00000</td>\n",
       "      <td>1.00000</td>\n",
       "      <td>1.00000</td>\n",
       "      <td>1.00000</td>\n",
       "      <td>1.00000</td>\n",
       "      <td>1.00000</td>\n",
       "      <td>1.00000</td>\n",
       "    </tr>\n",
       "  </tbody>\n",
       "</table>\n",
       "</div>"
      ],
      "text/plain": [
       "      URL_LENGTH NUMBER_SPECIAL_CHARACTERS TCP_CONVERSATION_EXCHANGE  \\\n",
       "count  967.00000                 967.00000                 967.00000   \n",
       "mean     0.16979                   0.12996                   0.01421   \n",
       "std      0.10975                   0.11147                   0.03781   \n",
       "min      0.00000                   0.00000                   0.00000   \n",
       "25%      0.09871                   0.05405                   0.00000   \n",
       "50%      0.14163                   0.10811                   0.00670   \n",
       "75%      0.21674                   0.16216                   0.01843   \n",
       "max      1.00000                   1.00000                   1.00000   \n",
       "\n",
       "      DIST_REMOTE_TCP_PORT REMOTE_IPS  APP_BYTES SOURCE_APP_PACKETS  \\\n",
       "count            967.00000  967.00000  967.00000          967.00000   \n",
       "mean               0.05982    0.18754    0.01723            0.01615   \n",
       "std                0.11878    0.19823    0.03932            0.03846   \n",
       "min                0.00000    0.00000    0.00000            0.00000   \n",
       "25%                0.00000    0.00000    0.00000            0.00000   \n",
       "50%                0.00000    0.11765    0.00763            0.00835   \n",
       "75%                0.06897    0.29412    0.02336            0.02170   \n",
       "max                1.00000    1.00000    1.00000            1.00000   \n",
       "\n",
       "      REMOTE_APP_PACKETS SOURCE_APP_BYTES REMOTE_APP_BYTES APP_PACKETS  \\\n",
       "count          967.00000        967.00000        967.00000   967.00000   \n",
       "mean             0.01510          0.00826          0.01902     0.01615   \n",
       "std              0.03897          0.03856          0.04012     0.03846   \n",
       "min              0.00000          0.00000          0.00000     0.00000   \n",
       "25%              0.00000          0.00000          0.00000     0.00000   \n",
       "50%              0.00779          0.00040          0.00879     0.00835   \n",
       "75%              0.01947          0.00455          0.02761     0.02170   \n",
       "max              1.00000          1.00000          1.00000     1.00000   \n",
       "\n",
       "      DNS_QUERY_TIMES       Type  \n",
       "count       967.00000  967.00000  \n",
       "mean          0.11903    0.10962  \n",
       "std           0.14109    0.31257  \n",
       "min           0.00000    0.00000  \n",
       "25%           0.00000    0.00000  \n",
       "50%           0.00000    0.00000  \n",
       "75%           0.20000    0.00000  \n",
       "max           1.00000    1.00000  "
      ]
     },
     "execution_count": 5,
     "metadata": {},
     "output_type": "execute_result"
    }
   ],
   "source": [
    "import seaborn as sns\n",
    "#min max normalization\n",
    "df_norm = (dataset-dataset.min())/(dataset.max()-dataset.min())\n",
    "df_norm.describe().applymap(\"{0:.5f}\".format)"
   ]
  },
  {
   "cell_type": "code",
   "execution_count": 6,
   "metadata": {},
   "outputs": [],
   "source": [
    "Y = dataset['Type']\n",
    "X = dataset.drop(['Type'], axis='columns')"
   ]
  },
  {
   "cell_type": "code",
   "execution_count": 7,
   "metadata": {},
   "outputs": [
    {
     "data": {
      "text/html": [
       "<style type=\"text/css\">\n",
       "#T_2063d_row0_col0, #T_2063d_row1_col1, #T_2063d_row2_col2, #T_2063d_row2_col6, #T_2063d_row2_col10, #T_2063d_row3_col3, #T_2063d_row4_col4, #T_2063d_row5_col5, #T_2063d_row5_col9, #T_2063d_row6_col2, #T_2063d_row6_col6, #T_2063d_row6_col10, #T_2063d_row7_col7, #T_2063d_row8_col8, #T_2063d_row9_col5, #T_2063d_row9_col9, #T_2063d_row10_col2, #T_2063d_row10_col6, #T_2063d_row10_col10, #T_2063d_row11_col11, #T_2063d_row12_col12 {\n",
       "  background-color: #b40426;\n",
       "  color: #f1f1f1;\n",
       "}\n",
       "#T_2063d_row0_col1, #T_2063d_row8_col9 {\n",
       "  background-color: #d1493f;\n",
       "  color: #f1f1f1;\n",
       "}\n",
       "#T_2063d_row0_col2, #T_2063d_row1_col2, #T_2063d_row12_col9 {\n",
       "  background-color: #3f53c6;\n",
       "  color: #f1f1f1;\n",
       "}\n",
       "#T_2063d_row0_col3 {\n",
       "  background-color: #7597f6;\n",
       "  color: #f1f1f1;\n",
       "}\n",
       "#T_2063d_row0_col4, #T_2063d_row1_col6, #T_2063d_row1_col9, #T_2063d_row1_col10, #T_2063d_row12_col5 {\n",
       "  background-color: #3c4ec2;\n",
       "  color: #f1f1f1;\n",
       "}\n",
       "#T_2063d_row0_col5, #T_2063d_row0_col6, #T_2063d_row0_col9, #T_2063d_row0_col10, #T_2063d_row0_col11, #T_2063d_row0_col12, #T_2063d_row1_col5, #T_2063d_row12_col0, #T_2063d_row12_col1, #T_2063d_row12_col2, #T_2063d_row12_col3, #T_2063d_row12_col4, #T_2063d_row12_col6, #T_2063d_row12_col7, #T_2063d_row12_col8, #T_2063d_row12_col10 {\n",
       "  background-color: #3b4cc0;\n",
       "  color: #f1f1f1;\n",
       "}\n",
       "#T_2063d_row0_col7, #T_2063d_row1_col4 {\n",
       "  background-color: #3d50c3;\n",
       "  color: #f1f1f1;\n",
       "}\n",
       "#T_2063d_row0_col8, #T_2063d_row6_col1, #T_2063d_row9_col1, #T_2063d_row10_col1 {\n",
       "  background-color: #4961d2;\n",
       "  color: #f1f1f1;\n",
       "}\n",
       "#T_2063d_row1_col0 {\n",
       "  background-color: #cd423b;\n",
       "  color: #f1f1f1;\n",
       "}\n",
       "#T_2063d_row1_col3, #T_2063d_row2_col0, #T_2063d_row3_col8, #T_2063d_row5_col0, #T_2063d_row6_col0, #T_2063d_row6_col12, #T_2063d_row9_col0, #T_2063d_row10_col0, #T_2063d_row10_col12 {\n",
       "  background-color: #7093f3;\n",
       "  color: #f1f1f1;\n",
       "}\n",
       "#T_2063d_row1_col7 {\n",
       "  background-color: #3e51c5;\n",
       "  color: #f1f1f1;\n",
       "}\n",
       "#T_2063d_row1_col8, #T_2063d_row3_col12, #T_2063d_row7_col1 {\n",
       "  background-color: #465ecf;\n",
       "  color: #f1f1f1;\n",
       "}\n",
       "#T_2063d_row1_col11 {\n",
       "  background-color: #4b64d5;\n",
       "  color: #f1f1f1;\n",
       "}\n",
       "#T_2063d_row1_col12 {\n",
       "  background-color: #6485ec;\n",
       "  color: #f1f1f1;\n",
       "}\n",
       "#T_2063d_row2_col1, #T_2063d_row5_col1 {\n",
       "  background-color: #485fd1;\n",
       "  color: #f1f1f1;\n",
       "}\n",
       "#T_2063d_row2_col3, #T_2063d_row4_col5, #T_2063d_row9_col4 {\n",
       "  background-color: #a7c5fe;\n",
       "  color: #000000;\n",
       "}\n",
       "#T_2063d_row2_col4 {\n",
       "  background-color: #94b6ff;\n",
       "  color: #000000;\n",
       "}\n",
       "#T_2063d_row2_col5, #T_2063d_row2_col8, #T_2063d_row5_col2 {\n",
       "  background-color: #bd1f2d;\n",
       "  color: #f1f1f1;\n",
       "}\n",
       "#T_2063d_row2_col7, #T_2063d_row6_col7, #T_2063d_row7_col2, #T_2063d_row7_col6, #T_2063d_row7_col10, #T_2063d_row10_col7 {\n",
       "  background-color: #b50927;\n",
       "  color: #f1f1f1;\n",
       "}\n",
       "#T_2063d_row2_col9, #T_2063d_row5_col7, #T_2063d_row7_col5, #T_2063d_row8_col2, #T_2063d_row9_col2 {\n",
       "  background-color: #be242e;\n",
       "  color: #f1f1f1;\n",
       "}\n",
       "#T_2063d_row2_col11 {\n",
       "  background-color: #9bbcff;\n",
       "  color: #000000;\n",
       "}\n",
       "#T_2063d_row2_col12 {\n",
       "  background-color: #6b8df0;\n",
       "  color: #f1f1f1;\n",
       "}\n",
       "#T_2063d_row3_col0 {\n",
       "  background-color: #81a4fb;\n",
       "  color: #f1f1f1;\n",
       "}\n",
       "#T_2063d_row3_col1, #T_2063d_row4_col1 {\n",
       "  background-color: #536edd;\n",
       "  color: #f1f1f1;\n",
       "}\n",
       "#T_2063d_row3_col2 {\n",
       "  background-color: #88abfd;\n",
       "  color: #000000;\n",
       "}\n",
       "#T_2063d_row3_col4 {\n",
       "  background-color: #c5d6f2;\n",
       "  color: #000000;\n",
       "}\n",
       "#T_2063d_row3_col5, #T_2063d_row5_col4 {\n",
       "  background-color: #9fbfff;\n",
       "  color: #000000;\n",
       "}\n",
       "#T_2063d_row3_col6, #T_2063d_row3_col10 {\n",
       "  background-color: #8badfd;\n",
       "  color: #000000;\n",
       "}\n",
       "#T_2063d_row3_col7 {\n",
       "  background-color: #86a9fc;\n",
       "  color: #f1f1f1;\n",
       "}\n",
       "#T_2063d_row3_col9 {\n",
       "  background-color: #a5c3fe;\n",
       "  color: #000000;\n",
       "}\n",
       "#T_2063d_row3_col11 {\n",
       "  background-color: #cedaeb;\n",
       "  color: #000000;\n",
       "}\n",
       "#T_2063d_row4_col0 {\n",
       "  background-color: #7b9ff9;\n",
       "  color: #f1f1f1;\n",
       "}\n",
       "#T_2063d_row4_col2, #T_2063d_row7_col11 {\n",
       "  background-color: #a1c0ff;\n",
       "  color: #000000;\n",
       "}\n",
       "#T_2063d_row4_col3 {\n",
       "  background-color: #dfdbd9;\n",
       "  color: #000000;\n",
       "}\n",
       "#T_2063d_row4_col6, #T_2063d_row4_col10 {\n",
       "  background-color: #a6c4fe;\n",
       "  color: #000000;\n",
       "}\n",
       "#T_2063d_row4_col7 {\n",
       "  background-color: #9abbff;\n",
       "  color: #000000;\n",
       "}\n",
       "#T_2063d_row4_col8, #T_2063d_row9_col12 {\n",
       "  background-color: #7699f6;\n",
       "  color: #f1f1f1;\n",
       "}\n",
       "#T_2063d_row4_col9, #T_2063d_row11_col6, #T_2063d_row11_col10 {\n",
       "  background-color: #aec9fc;\n",
       "  color: #000000;\n",
       "}\n",
       "#T_2063d_row4_col11 {\n",
       "  background-color: #e6d7cf;\n",
       "  color: #000000;\n",
       "}\n",
       "#T_2063d_row4_col12, #T_2063d_row11_col8 {\n",
       "  background-color: #7a9df8;\n",
       "  color: #f1f1f1;\n",
       "}\n",
       "#T_2063d_row5_col3, #T_2063d_row11_col12 {\n",
       "  background-color: #bfd3f6;\n",
       "  color: #000000;\n",
       "}\n",
       "#T_2063d_row5_col6, #T_2063d_row5_col10, #T_2063d_row6_col5, #T_2063d_row10_col5 {\n",
       "  background-color: #ba162b;\n",
       "  color: #f1f1f1;\n",
       "}\n",
       "#T_2063d_row5_col8 {\n",
       "  background-color: #cb3e38;\n",
       "  color: #f1f1f1;\n",
       "}\n",
       "#T_2063d_row5_col11 {\n",
       "  background-color: #bcd2f7;\n",
       "  color: #000000;\n",
       "}\n",
       "#T_2063d_row5_col12 {\n",
       "  background-color: #7295f4;\n",
       "  color: #f1f1f1;\n",
       "}\n",
       "#T_2063d_row6_col3, #T_2063d_row6_col11, #T_2063d_row10_col3, #T_2063d_row10_col11 {\n",
       "  background-color: #afcafc;\n",
       "  color: #000000;\n",
       "}\n",
       "#T_2063d_row6_col4, #T_2063d_row10_col4, #T_2063d_row11_col2 {\n",
       "  background-color: #9ebeff;\n",
       "  color: #000000;\n",
       "}\n",
       "#T_2063d_row6_col8, #T_2063d_row8_col6, #T_2063d_row8_col10, #T_2063d_row10_col8 {\n",
       "  background-color: #c12b30;\n",
       "  color: #f1f1f1;\n",
       "}\n",
       "#T_2063d_row6_col9, #T_2063d_row7_col8, #T_2063d_row8_col7, #T_2063d_row9_col6, #T_2063d_row9_col10, #T_2063d_row10_col9 {\n",
       "  background-color: #bb1b2c;\n",
       "  color: #f1f1f1;\n",
       "}\n",
       "#T_2063d_row7_col0, #T_2063d_row8_col0, #T_2063d_row11_col0 {\n",
       "  background-color: #6f92f3;\n",
       "  color: #f1f1f1;\n",
       "}\n",
       "#T_2063d_row7_col3 {\n",
       "  background-color: #a9c6fd;\n",
       "  color: #000000;\n",
       "}\n",
       "#T_2063d_row7_col4 {\n",
       "  background-color: #8db0fe;\n",
       "  color: #000000;\n",
       "}\n",
       "#T_2063d_row7_col9, #T_2063d_row9_col7 {\n",
       "  background-color: #c0282f;\n",
       "  color: #f1f1f1;\n",
       "}\n",
       "#T_2063d_row7_col12, #T_2063d_row8_col11 {\n",
       "  background-color: #6c8ff1;\n",
       "  color: #f1f1f1;\n",
       "}\n",
       "#T_2063d_row8_col1 {\n",
       "  background-color: #445acc;\n",
       "  color: #f1f1f1;\n",
       "}\n",
       "#T_2063d_row8_col3 {\n",
       "  background-color: #89acfd;\n",
       "  color: #000000;\n",
       "}\n",
       "#T_2063d_row8_col4 {\n",
       "  background-color: #5d7ce6;\n",
       "  color: #f1f1f1;\n",
       "}\n",
       "#T_2063d_row8_col5 {\n",
       "  background-color: #cc403a;\n",
       "  color: #f1f1f1;\n",
       "}\n",
       "#T_2063d_row8_col12 {\n",
       "  background-color: #6180e9;\n",
       "  color: #f1f1f1;\n",
       "}\n",
       "#T_2063d_row9_col3 {\n",
       "  background-color: #c4d5f3;\n",
       "  color: #000000;\n",
       "}\n",
       "#T_2063d_row9_col8 {\n",
       "  background-color: #cf453c;\n",
       "  color: #f1f1f1;\n",
       "}\n",
       "#T_2063d_row9_col11 {\n",
       "  background-color: #cbd8ee;\n",
       "  color: #000000;\n",
       "}\n",
       "#T_2063d_row11_col1 {\n",
       "  background-color: #5673e0;\n",
       "  color: #f1f1f1;\n",
       "}\n",
       "#T_2063d_row11_col3 {\n",
       "  background-color: #e1dad6;\n",
       "  color: #000000;\n",
       "}\n",
       "#T_2063d_row11_col4 {\n",
       "  background-color: #e2dad5;\n",
       "  color: #000000;\n",
       "}\n",
       "#T_2063d_row11_col5 {\n",
       "  background-color: #bbd1f8;\n",
       "  color: #000000;\n",
       "}\n",
       "#T_2063d_row11_col7 {\n",
       "  background-color: #a2c1ff;\n",
       "  color: #000000;\n",
       "}\n",
       "#T_2063d_row11_col9 {\n",
       "  background-color: #cad8ef;\n",
       "  color: #000000;\n",
       "}\n",
       "#T_2063d_row12_col11 {\n",
       "  background-color: #96b7ff;\n",
       "  color: #000000;\n",
       "}\n",
       "</style>\n",
       "<table id=\"T_2063d\">\n",
       "  <thead>\n",
       "    <tr>\n",
       "      <th class=\"blank level0\" >&nbsp;</th>\n",
       "      <th id=\"T_2063d_level0_col0\" class=\"col_heading level0 col0\" >URL_LENGTH</th>\n",
       "      <th id=\"T_2063d_level0_col1\" class=\"col_heading level0 col1\" >NUMBER_SPECIAL_CHARACTERS</th>\n",
       "      <th id=\"T_2063d_level0_col2\" class=\"col_heading level0 col2\" >TCP_CONVERSATION_EXCHANGE</th>\n",
       "      <th id=\"T_2063d_level0_col3\" class=\"col_heading level0 col3\" >DIST_REMOTE_TCP_PORT</th>\n",
       "      <th id=\"T_2063d_level0_col4\" class=\"col_heading level0 col4\" >REMOTE_IPS</th>\n",
       "      <th id=\"T_2063d_level0_col5\" class=\"col_heading level0 col5\" >APP_BYTES</th>\n",
       "      <th id=\"T_2063d_level0_col6\" class=\"col_heading level0 col6\" >SOURCE_APP_PACKETS</th>\n",
       "      <th id=\"T_2063d_level0_col7\" class=\"col_heading level0 col7\" >REMOTE_APP_PACKETS</th>\n",
       "      <th id=\"T_2063d_level0_col8\" class=\"col_heading level0 col8\" >SOURCE_APP_BYTES</th>\n",
       "      <th id=\"T_2063d_level0_col9\" class=\"col_heading level0 col9\" >REMOTE_APP_BYTES</th>\n",
       "      <th id=\"T_2063d_level0_col10\" class=\"col_heading level0 col10\" >APP_PACKETS</th>\n",
       "      <th id=\"T_2063d_level0_col11\" class=\"col_heading level0 col11\" >DNS_QUERY_TIMES</th>\n",
       "      <th id=\"T_2063d_level0_col12\" class=\"col_heading level0 col12\" >Type</th>\n",
       "    </tr>\n",
       "  </thead>\n",
       "  <tbody>\n",
       "    <tr>\n",
       "      <th id=\"T_2063d_level0_row0\" class=\"row_heading level0 row0\" >URL_LENGTH</th>\n",
       "      <td id=\"T_2063d_row0_col0\" class=\"data row0 col0\" >1.000000</td>\n",
       "      <td id=\"T_2063d_row0_col1\" class=\"data row0 col1\" >0.914616</td>\n",
       "      <td id=\"T_2063d_row0_col2\" class=\"data row0 col2\" >0.018584</td>\n",
       "      <td id=\"T_2063d_row0_col3\" class=\"data row0 col3\" >0.071610</td>\n",
       "      <td id=\"T_2063d_row0_col4\" class=\"data row0 col4\" >0.053408</td>\n",
       "      <td id=\"T_2063d_row0_col5\" class=\"data row0 col5\" >0.016469</td>\n",
       "      <td id=\"T_2063d_row0_col6\" class=\"data row0 col6\" >0.018902</td>\n",
       "      <td id=\"T_2063d_row0_col7\" class=\"data row0 col7\" >0.013793</td>\n",
       "      <td id=\"T_2063d_row0_col8\" class=\"data row0 col8\" >0.012381</td>\n",
       "      <td id=\"T_2063d_row0_col9\" class=\"data row0 col9\" >0.017463</td>\n",
       "      <td id=\"T_2063d_row0_col10\" class=\"data row0 col10\" >0.018902</td>\n",
       "      <td id=\"T_2063d_row0_col11\" class=\"data row0 col11\" >0.011702</td>\n",
       "      <td id=\"T_2063d_row0_col12\" class=\"data row0 col12\" >-0.183955</td>\n",
       "    </tr>\n",
       "    <tr>\n",
       "      <th id=\"T_2063d_level0_row1\" class=\"row_heading level0 row1\" >NUMBER_SPECIAL_CHARACTERS</th>\n",
       "      <td id=\"T_2063d_row1_col0\" class=\"data row1 col0\" >0.914616</td>\n",
       "      <td id=\"T_2063d_row1_col1\" class=\"data row1 col1\" >1.000000</td>\n",
       "      <td id=\"T_2063d_row1_col2\" class=\"data row1 col2\" >0.018174</td>\n",
       "      <td id=\"T_2063d_row1_col3\" class=\"data row1 col3\" >0.054938</td>\n",
       "      <td id=\"T_2063d_row1_col4\" class=\"data row1 col4\" >0.057562</td>\n",
       "      <td id=\"T_2063d_row1_col5\" class=\"data row1 col5\" >0.019724</td>\n",
       "      <td id=\"T_2063d_row1_col6\" class=\"data row1 col6\" >0.021984</td>\n",
       "      <td id=\"T_2063d_row1_col7\" class=\"data row1 col7\" >0.016633</td>\n",
       "      <td id=\"T_2063d_row1_col8\" class=\"data row1 col8\" >0.007171</td>\n",
       "      <td id=\"T_2063d_row1_col9\" class=\"data row1 col9\" >0.023288</td>\n",
       "      <td id=\"T_2063d_row1_col10\" class=\"data row1 col10\" >0.021984</td>\n",
       "      <td id=\"T_2063d_row1_col11\" class=\"data row1 col11\" >0.069238</td>\n",
       "      <td id=\"T_2063d_row1_col12\" class=\"data row1 col12\" >-0.026275</td>\n",
       "    </tr>\n",
       "    <tr>\n",
       "      <th id=\"T_2063d_level0_row2\" class=\"row_heading level0 row2\" >TCP_CONVERSATION_EXCHANGE</th>\n",
       "      <td id=\"T_2063d_row2_col0\" class=\"data row2 col0\" >0.018584</td>\n",
       "      <td id=\"T_2063d_row2_col1\" class=\"data row2 col1\" >0.018174</td>\n",
       "      <td id=\"T_2063d_row2_col2\" class=\"data row2 col2\" >1.000000</td>\n",
       "      <td id=\"T_2063d_row2_col3\" class=\"data row2 col3\" >0.235672</td>\n",
       "      <td id=\"T_2063d_row2_col4\" class=\"data row2 col4\" >0.307239</td>\n",
       "      <td id=\"T_2063d_row2_col5\" class=\"data row2 col5\" >0.976480</td>\n",
       "      <td id=\"T_2063d_row2_col6\" class=\"data row2 col6\" >0.998291</td>\n",
       "      <td id=\"T_2063d_row2_col7\" class=\"data row2 col7\" >0.993865</td>\n",
       "      <td id=\"T_2063d_row2_col8\" class=\"data row2 col8\" >0.972554</td>\n",
       "      <td id=\"T_2063d_row2_col9\" class=\"data row2 col9\" >0.970667</td>\n",
       "      <td id=\"T_2063d_row2_col10\" class=\"data row2 col10\" >0.998291</td>\n",
       "      <td id=\"T_2063d_row2_col11\" class=\"data row2 col11\" >0.300822</td>\n",
       "      <td id=\"T_2063d_row2_col12\" class=\"data row2 col12\" >0.000347</td>\n",
       "    </tr>\n",
       "    <tr>\n",
       "      <th id=\"T_2063d_level0_row3\" class=\"row_heading level0 row3\" >DIST_REMOTE_TCP_PORT</th>\n",
       "      <td id=\"T_2063d_row3_col0\" class=\"data row3 col0\" >0.071610</td>\n",
       "      <td id=\"T_2063d_row3_col1\" class=\"data row3 col1\" >0.054938</td>\n",
       "      <td id=\"T_2063d_row3_col2\" class=\"data row3 col2\" >0.235672</td>\n",
       "      <td id=\"T_2063d_row3_col3\" class=\"data row3 col3\" >1.000000</td>\n",
       "      <td id=\"T_2063d_row3_col4\" class=\"data row3 col4\" >0.442912</td>\n",
       "      <td id=\"T_2063d_row3_col5\" class=\"data row3 col5\" >0.314607</td>\n",
       "      <td id=\"T_2063d_row3_col6\" class=\"data row3 col6\" >0.258648</td>\n",
       "      <td id=\"T_2063d_row3_col7\" class=\"data row3 col7\" >0.236733</td>\n",
       "      <td id=\"T_2063d_row3_col8\" class=\"data row3 col8\" >0.137946</td>\n",
       "      <td id=\"T_2063d_row3_col9\" class=\"data row3 col9\" >0.331813</td>\n",
       "      <td id=\"T_2063d_row3_col10\" class=\"data row3 col10\" >0.258648</td>\n",
       "      <td id=\"T_2063d_row3_col11\" class=\"data row3 col11\" >0.453453</td>\n",
       "      <td id=\"T_2063d_row3_col12\" class=\"data row3 col12\" >-0.136900</td>\n",
       "    </tr>\n",
       "    <tr>\n",
       "      <th id=\"T_2063d_level0_row4\" class=\"row_heading level0 row4\" >REMOTE_IPS</th>\n",
       "      <td id=\"T_2063d_row4_col0\" class=\"data row4 col0\" >0.053408</td>\n",
       "      <td id=\"T_2063d_row4_col1\" class=\"data row4 col1\" >0.057562</td>\n",
       "      <td id=\"T_2063d_row4_col2\" class=\"data row4 col2\" >0.307239</td>\n",
       "      <td id=\"T_2063d_row4_col3\" class=\"data row4 col3\" >0.442912</td>\n",
       "      <td id=\"T_2063d_row4_col4\" class=\"data row4 col4\" >1.000000</td>\n",
       "      <td id=\"T_2063d_row4_col5\" class=\"data row4 col5\" >0.337006</td>\n",
       "      <td id=\"T_2063d_row4_col6\" class=\"data row4 col6\" >0.334414</td>\n",
       "      <td id=\"T_2063d_row4_col7\" class=\"data row4 col7\" >0.289318</td>\n",
       "      <td id=\"T_2063d_row4_col8\" class=\"data row4 col8\" >0.154791</td>\n",
       "      <td id=\"T_2063d_row4_col9\" class=\"data row4 col9\" >0.359046</td>\n",
       "      <td id=\"T_2063d_row4_col10\" class=\"data row4 col10\" >0.334414</td>\n",
       "      <td id=\"T_2063d_row4_col11\" class=\"data row4 col11\" >0.543964</td>\n",
       "      <td id=\"T_2063d_row4_col12\" class=\"data row4 col12\" >0.048205</td>\n",
       "    </tr>\n",
       "    <tr>\n",
       "      <th id=\"T_2063d_level0_row5\" class=\"row_heading level0 row5\" >APP_BYTES</th>\n",
       "      <td id=\"T_2063d_row5_col0\" class=\"data row5 col0\" >0.016469</td>\n",
       "      <td id=\"T_2063d_row5_col1\" class=\"data row5 col1\" >0.019724</td>\n",
       "      <td id=\"T_2063d_row5_col2\" class=\"data row5 col2\" >0.976480</td>\n",
       "      <td id=\"T_2063d_row5_col3\" class=\"data row5 col3\" >0.314607</td>\n",
       "      <td id=\"T_2063d_row5_col4\" class=\"data row5 col4\" >0.337006</td>\n",
       "      <td id=\"T_2063d_row5_col5\" class=\"data row5 col5\" >1.000000</td>\n",
       "      <td id=\"T_2063d_row5_col6\" class=\"data row5 col6\" >0.981002</td>\n",
       "      <td id=\"T_2063d_row5_col7\" class=\"data row5 col7\" >0.971596</td>\n",
       "      <td id=\"T_2063d_row5_col8\" class=\"data row5 col8\" >0.931299</td>\n",
       "      <td id=\"T_2063d_row5_col9\" class=\"data row5 col9\" >0.998748</td>\n",
       "      <td id=\"T_2063d_row5_col10\" class=\"data row5 col10\" >0.981002</td>\n",
       "      <td id=\"T_2063d_row5_col11\" class=\"data row5 col11\" >0.394992</td>\n",
       "      <td id=\"T_2063d_row5_col12\" class=\"data row5 col12\" >0.022187</td>\n",
       "    </tr>\n",
       "    <tr>\n",
       "      <th id=\"T_2063d_level0_row6\" class=\"row_heading level0 row6\" >SOURCE_APP_PACKETS</th>\n",
       "      <td id=\"T_2063d_row6_col0\" class=\"data row6 col0\" >0.018902</td>\n",
       "      <td id=\"T_2063d_row6_col1\" class=\"data row6 col1\" >0.021984</td>\n",
       "      <td id=\"T_2063d_row6_col2\" class=\"data row6 col2\" >0.998291</td>\n",
       "      <td id=\"T_2063d_row6_col3\" class=\"data row6 col3\" >0.258648</td>\n",
       "      <td id=\"T_2063d_row6_col4\" class=\"data row6 col4\" >0.334414</td>\n",
       "      <td id=\"T_2063d_row6_col5\" class=\"data row6 col5\" >0.981002</td>\n",
       "      <td id=\"T_2063d_row6_col6\" class=\"data row6 col6\" >1.000000</td>\n",
       "      <td id=\"T_2063d_row6_col7\" class=\"data row6 col7\" >0.993040</td>\n",
       "      <td id=\"T_2063d_row6_col8\" class=\"data row6 col8\" >0.963407</td>\n",
       "      <td id=\"T_2063d_row6_col9\" class=\"data row6 col9\" >0.978080</td>\n",
       "      <td id=\"T_2063d_row6_col10\" class=\"data row6 col10\" >1.000000</td>\n",
       "      <td id=\"T_2063d_row6_col11\" class=\"data row6 col11\" >0.356007</td>\n",
       "      <td id=\"T_2063d_row6_col12\" class=\"data row6 col12\" >0.017656</td>\n",
       "    </tr>\n",
       "    <tr>\n",
       "      <th id=\"T_2063d_level0_row7\" class=\"row_heading level0 row7\" >REMOTE_APP_PACKETS</th>\n",
       "      <td id=\"T_2063d_row7_col0\" class=\"data row7 col0\" >0.013793</td>\n",
       "      <td id=\"T_2063d_row7_col1\" class=\"data row7 col1\" >0.016633</td>\n",
       "      <td id=\"T_2063d_row7_col2\" class=\"data row7 col2\" >0.993865</td>\n",
       "      <td id=\"T_2063d_row7_col3\" class=\"data row7 col3\" >0.236733</td>\n",
       "      <td id=\"T_2063d_row7_col4\" class=\"data row7 col4\" >0.289318</td>\n",
       "      <td id=\"T_2063d_row7_col5\" class=\"data row7 col5\" >0.971596</td>\n",
       "      <td id=\"T_2063d_row7_col6\" class=\"data row7 col6\" >0.993040</td>\n",
       "      <td id=\"T_2063d_row7_col7\" class=\"data row7 col7\" >1.000000</td>\n",
       "      <td id=\"T_2063d_row7_col8\" class=\"data row7 col8\" >0.978830</td>\n",
       "      <td id=\"T_2063d_row7_col9\" class=\"data row7 col9\" >0.966535</td>\n",
       "      <td id=\"T_2063d_row7_col10\" class=\"data row7 col10\" >0.993040</td>\n",
       "      <td id=\"T_2063d_row7_col11\" class=\"data row7 col11\" >0.312929</td>\n",
       "      <td id=\"T_2063d_row7_col12\" class=\"data row7 col12\" >0.003206</td>\n",
       "    </tr>\n",
       "    <tr>\n",
       "      <th id=\"T_2063d_level0_row8\" class=\"row_heading level0 row8\" >SOURCE_APP_BYTES</th>\n",
       "      <td id=\"T_2063d_row8_col0\" class=\"data row8 col0\" >0.012381</td>\n",
       "      <td id=\"T_2063d_row8_col1\" class=\"data row8 col1\" >0.007171</td>\n",
       "      <td id=\"T_2063d_row8_col2\" class=\"data row8 col2\" >0.972554</td>\n",
       "      <td id=\"T_2063d_row8_col3\" class=\"data row8 col3\" >0.137946</td>\n",
       "      <td id=\"T_2063d_row8_col4\" class=\"data row8 col4\" >0.154791</td>\n",
       "      <td id=\"T_2063d_row8_col5\" class=\"data row8 col5\" >0.931299</td>\n",
       "      <td id=\"T_2063d_row8_col6\" class=\"data row8 col6\" >0.963407</td>\n",
       "      <td id=\"T_2063d_row8_col7\" class=\"data row8 col7\" >0.978830</td>\n",
       "      <td id=\"T_2063d_row8_col8\" class=\"data row8 col8\" >1.000000</td>\n",
       "      <td id=\"T_2063d_row8_col9\" class=\"data row8 col9\" >0.919344</td>\n",
       "      <td id=\"T_2063d_row8_col10\" class=\"data row8 col10\" >0.963407</td>\n",
       "      <td id=\"T_2063d_row8_col11\" class=\"data row8 col11\" >0.169382</td>\n",
       "      <td id=\"T_2063d_row8_col12\" class=\"data row8 col12\" >-0.036737</td>\n",
       "    </tr>\n",
       "    <tr>\n",
       "      <th id=\"T_2063d_level0_row9\" class=\"row_heading level0 row9\" >REMOTE_APP_BYTES</th>\n",
       "      <td id=\"T_2063d_row9_col0\" class=\"data row9 col0\" >0.017463</td>\n",
       "      <td id=\"T_2063d_row9_col1\" class=\"data row9 col1\" >0.023288</td>\n",
       "      <td id=\"T_2063d_row9_col2\" class=\"data row9 col2\" >0.970667</td>\n",
       "      <td id=\"T_2063d_row9_col3\" class=\"data row9 col3\" >0.331813</td>\n",
       "      <td id=\"T_2063d_row9_col4\" class=\"data row9 col4\" >0.359046</td>\n",
       "      <td id=\"T_2063d_row9_col5\" class=\"data row9 col5\" >0.998748</td>\n",
       "      <td id=\"T_2063d_row9_col6\" class=\"data row9 col6\" >0.978080</td>\n",
       "      <td id=\"T_2063d_row9_col7\" class=\"data row9 col7\" >0.966535</td>\n",
       "      <td id=\"T_2063d_row9_col8\" class=\"data row9 col8\" >0.919344</td>\n",
       "      <td id=\"T_2063d_row9_col9\" class=\"data row9 col9\" >1.000000</td>\n",
       "      <td id=\"T_2063d_row9_col10\" class=\"data row9 col10\" >0.978080</td>\n",
       "      <td id=\"T_2063d_row9_col11\" class=\"data row9 col11\" >0.440278</td>\n",
       "      <td id=\"T_2063d_row9_col12\" class=\"data row9 col12\" >0.036317</td>\n",
       "    </tr>\n",
       "    <tr>\n",
       "      <th id=\"T_2063d_level0_row10\" class=\"row_heading level0 row10\" >APP_PACKETS</th>\n",
       "      <td id=\"T_2063d_row10_col0\" class=\"data row10 col0\" >0.018902</td>\n",
       "      <td id=\"T_2063d_row10_col1\" class=\"data row10 col1\" >0.021984</td>\n",
       "      <td id=\"T_2063d_row10_col2\" class=\"data row10 col2\" >0.998291</td>\n",
       "      <td id=\"T_2063d_row10_col3\" class=\"data row10 col3\" >0.258648</td>\n",
       "      <td id=\"T_2063d_row10_col4\" class=\"data row10 col4\" >0.334414</td>\n",
       "      <td id=\"T_2063d_row10_col5\" class=\"data row10 col5\" >0.981002</td>\n",
       "      <td id=\"T_2063d_row10_col6\" class=\"data row10 col6\" >1.000000</td>\n",
       "      <td id=\"T_2063d_row10_col7\" class=\"data row10 col7\" >0.993040</td>\n",
       "      <td id=\"T_2063d_row10_col8\" class=\"data row10 col8\" >0.963407</td>\n",
       "      <td id=\"T_2063d_row10_col9\" class=\"data row10 col9\" >0.978080</td>\n",
       "      <td id=\"T_2063d_row10_col10\" class=\"data row10 col10\" >1.000000</td>\n",
       "      <td id=\"T_2063d_row10_col11\" class=\"data row10 col11\" >0.356007</td>\n",
       "      <td id=\"T_2063d_row10_col12\" class=\"data row10 col12\" >0.017656</td>\n",
       "    </tr>\n",
       "    <tr>\n",
       "      <th id=\"T_2063d_level0_row11\" class=\"row_heading level0 row11\" >DNS_QUERY_TIMES</th>\n",
       "      <td id=\"T_2063d_row11_col0\" class=\"data row11 col0\" >0.011702</td>\n",
       "      <td id=\"T_2063d_row11_col1\" class=\"data row11 col1\" >0.069238</td>\n",
       "      <td id=\"T_2063d_row11_col2\" class=\"data row11 col2\" >0.300822</td>\n",
       "      <td id=\"T_2063d_row11_col3\" class=\"data row11 col3\" >0.453453</td>\n",
       "      <td id=\"T_2063d_row11_col4\" class=\"data row11 col4\" >0.543964</td>\n",
       "      <td id=\"T_2063d_row11_col5\" class=\"data row11 col5\" >0.394992</td>\n",
       "      <td id=\"T_2063d_row11_col6\" class=\"data row11 col6\" >0.356007</td>\n",
       "      <td id=\"T_2063d_row11_col7\" class=\"data row11 col7\" >0.312929</td>\n",
       "      <td id=\"T_2063d_row11_col8\" class=\"data row11 col8\" >0.169382</td>\n",
       "      <td id=\"T_2063d_row11_col9\" class=\"data row11 col9\" >0.440278</td>\n",
       "      <td id=\"T_2063d_row11_col10\" class=\"data row11 col10\" >0.356007</td>\n",
       "      <td id=\"T_2063d_row11_col11\" class=\"data row11 col11\" >1.000000</td>\n",
       "      <td id=\"T_2063d_row11_col12\" class=\"data row11 col12\" >0.283626</td>\n",
       "    </tr>\n",
       "    <tr>\n",
       "      <th id=\"T_2063d_level0_row12\" class=\"row_heading level0 row12\" >Type</th>\n",
       "      <td id=\"T_2063d_row12_col0\" class=\"data row12 col0\" >-0.183955</td>\n",
       "      <td id=\"T_2063d_row12_col1\" class=\"data row12 col1\" >-0.026275</td>\n",
       "      <td id=\"T_2063d_row12_col2\" class=\"data row12 col2\" >0.000347</td>\n",
       "      <td id=\"T_2063d_row12_col3\" class=\"data row12 col3\" >-0.136900</td>\n",
       "      <td id=\"T_2063d_row12_col4\" class=\"data row12 col4\" >0.048205</td>\n",
       "      <td id=\"T_2063d_row12_col5\" class=\"data row12 col5\" >0.022187</td>\n",
       "      <td id=\"T_2063d_row12_col6\" class=\"data row12 col6\" >0.017656</td>\n",
       "      <td id=\"T_2063d_row12_col7\" class=\"data row12 col7\" >0.003206</td>\n",
       "      <td id=\"T_2063d_row12_col8\" class=\"data row12 col8\" >-0.036737</td>\n",
       "      <td id=\"T_2063d_row12_col9\" class=\"data row12 col9\" >0.036317</td>\n",
       "      <td id=\"T_2063d_row12_col10\" class=\"data row12 col10\" >0.017656</td>\n",
       "      <td id=\"T_2063d_row12_col11\" class=\"data row12 col11\" >0.283626</td>\n",
       "      <td id=\"T_2063d_row12_col12\" class=\"data row12 col12\" >1.000000</td>\n",
       "    </tr>\n",
       "  </tbody>\n",
       "</table>\n"
      ],
      "text/plain": [
       "<pandas.io.formats.style.Styler at 0x1ccdf755df0>"
      ]
     },
     "execution_count": 7,
     "metadata": {},
     "output_type": "execute_result"
    }
   ],
   "source": [
    "corr = dataset.corr()\n",
    "corr.style.background_gradient(cmap='coolwarm')"
   ]
  },
  {
   "cell_type": "code",
   "execution_count": 8,
   "metadata": {},
   "outputs": [],
   "source": [
    "from sklearn.model_selection import train_test_split\n",
    "X_train, X_test, Y_train, Y_test = \\\n",
    "    train_test_split(X, Y,\n",
    "                     test_size=0.20,\n",
    "                     stratify=Y,\n",
    "                     random_state=1)"
   ]
  },
  {
   "cell_type": "code",
   "execution_count": 9,
   "metadata": {},
   "outputs": [
    {
     "data": {
      "text/plain": [
       "0    688\n",
       "1     85\n",
       "Name: Type, dtype: int64"
      ]
     },
     "execution_count": 9,
     "metadata": {},
     "output_type": "execute_result"
    }
   ],
   "source": [
    "Y_train.value_counts()"
   ]
  },
  {
   "cell_type": "code",
   "execution_count": 10,
   "metadata": {},
   "outputs": [
    {
     "name": "stderr",
     "output_type": "stream",
     "text": [
      "d:\\anaconda_\\lib\\site-packages\\sklearn\\svm\\_base.py:1206: ConvergenceWarning: Liblinear failed to converge, increase the number of iterations.\n",
      "  warnings.warn(\n"
     ]
    }
   ],
   "source": [
    "from sklearn.svm import LinearSVC\n",
    "Lin_SVC = LinearSVC(C=10).fit(X_train, Y_train)"
   ]
  },
  {
   "cell_type": "code",
   "execution_count": 11,
   "metadata": {},
   "outputs": [
    {
     "data": {
      "text/plain": [
       "0.8195876288659794"
      ]
     },
     "execution_count": 11,
     "metadata": {},
     "output_type": "execute_result"
    }
   ],
   "source": [
    "from sklearn.metrics import accuracy_score\n",
    "predict_test = Lin_SVC.predict(X_test)\n",
    "accuracy_score(Y_test, predict_test)"
   ]
  },
  {
   "cell_type": "code",
   "execution_count": 12,
   "metadata": {},
   "outputs": [
    {
     "data": {
      "text/plain": [
       "0.7567917205692108"
      ]
     },
     "execution_count": 12,
     "metadata": {},
     "output_type": "execute_result"
    }
   ],
   "source": [
    "predict_train = Lin_SVC.predict(X_train)\n",
    "accuracy_score(Y_train, predict_train)"
   ]
  },
  {
   "cell_type": "code",
   "execution_count": 13,
   "metadata": {},
   "outputs": [
    {
     "name": "stdout",
     "output_type": "stream",
     "text": [
      "[[147  26]\n",
      " [  9  12]]\n"
     ]
    }
   ],
   "source": [
    "from sklearn import metrics\n",
    "conf_matrix_rf = metrics.confusion_matrix(Y_test, predict_test)\n",
    "print(conf_matrix_rf)"
   ]
  },
  {
   "cell_type": "code",
   "execution_count": 14,
   "metadata": {},
   "outputs": [
    {
     "data": {
      "image/png": "[encoded data removed]",
      "text/plain": [
       "<Figure size 576x432 with 2 Axes>"
      ]
     },
     "metadata": {
      "needs_background": "light"
     },
     "output_type": "display_data"
    }
   ],
   "source": [
    "#1confusion matrics\n",
    "import seaborn as sn\n",
    "from sklearn.metrics import confusion_matrix\n",
    "import matplotlib.pyplot as plt\n",
    "\n",
    "# cf_matrix = confusion_matrix (Y_test, predict_test)\n",
    "# ax = sns.heatmap(cf_matrix, annot=True, cmap='Blues')\n",
    "\n",
    "# ax.set_xlabel('\\nPredicted Values')\n",
    "# ax.set_ylabel('Actual Values ');\n",
    "\n",
    "# ## Ticket labels - List must be in alphabetical order\n",
    "# ax.xaxis.set_ticklabels(['False','True'])\n",
    "# ax.yaxis.set_ticklabels(['False','True'])\n",
    "\n",
    "# ## Display the visualization of the Confusion Matrix.\n",
    "# plt.show()\n",
    "cfm = conf_matrix_rf\n",
    "lbl1=[\"Predicted Negative\", \"Predicted Positive\"]\n",
    "lbl2=[\"Actual Negative\", \"Actual Poistive\"]\n",
    "fig, ax = plt.subplots(figsize=(8,6))\n",
    "sns.heatmap(cfm, annot=True, cmap=\"Blues\", fmt=\"d\", xticklabels=lbl1, yticklabels=lbl2)\n",
    "ax.set_ylim([0,2])\n",
    "plt.show()"
   ]
  },
  {
   "cell_type": "code",
   "execution_count": 15,
   "metadata": {},
   "outputs": [
    {
     "data": {
      "text/plain": [
       "array([0.94230769, 0.31578947])"
      ]
     },
     "execution_count": 15,
     "metadata": {},
     "output_type": "execute_result"
    }
   ],
   "source": [
    "#precision for validation param \n",
    "from sklearn.metrics import precision_score\n",
    "precision_score(Y_test, predict_test, average = None)"
   ]
  },
  {
   "cell_type": "code",
   "execution_count": 16,
   "metadata": {},
   "outputs": [
    {
     "data": {
      "text/plain": [
       "array([0.93706294, 0.24378109])"
      ]
     },
     "execution_count": 16,
     "metadata": {},
     "output_type": "execute_result"
    }
   ],
   "source": [
    "#precision for train param \n",
    "precision_score(Y_train, predict_train, average = None)"
   ]
  },
  {
   "cell_type": "code",
   "execution_count": 17,
   "metadata": {},
   "outputs": [
    {
     "data": {
      "text/plain": [
       "array([0.77906977, 0.57647059])"
      ]
     },
     "execution_count": 17,
     "metadata": {},
     "output_type": "execute_result"
    }
   ],
   "source": [
    "#recall for train param\n",
    "from sklearn.metrics import recall_score\n",
    "recall_score(Y_train, predict_train, average = None)"
   ]
  },
  {
   "cell_type": "code",
   "execution_count": 18,
   "metadata": {},
   "outputs": [
    {
     "data": {
      "text/plain": [
       "array([0.84971098, 0.57142857])"
      ]
     },
     "execution_count": 18,
     "metadata": {},
     "output_type": "execute_result"
    }
   ],
   "source": [
    "#recall for validation param\n",
    "recall_score(Y_test, predict_test, average = None)"
   ]
  },
  {
   "cell_type": "code",
   "execution_count": 19,
   "metadata": {},
   "outputs": [
    {
     "data": {
      "text/plain": [
       "array([0.85079365, 0.34265734])"
      ]
     },
     "execution_count": 19,
     "metadata": {},
     "output_type": "execute_result"
    }
   ],
   "source": [
    "#F1 score for train param\n",
    "from sklearn.metrics import f1_score\n",
    "f1_score(Y_train, predict_train, average = None)"
   ]
  },
  {
   "cell_type": "code",
   "execution_count": 20,
   "metadata": {},
   "outputs": [
    {
     "data": {
      "text/plain": [
       "array([0.89361702, 0.40677966])"
      ]
     },
     "execution_count": 20,
     "metadata": {},
     "output_type": "execute_result"
    }
   ],
   "source": [
    "#F1 score for validation param\n",
    "f1_score(Y_test, predict_test, average = None)"
   ]
  },
  {
   "cell_type": "code",
   "execution_count": 21,
   "metadata": {},
   "outputs": [],
   "source": [
    "from sklearn.svm import SVC\n",
    "SVC_k = SVC(kernel = 'linear').fit(X_train, Y_train)"
   ]
  },
  {
   "cell_type": "code",
   "execution_count": 22,
   "metadata": {},
   "outputs": [
    {
     "data": {
      "text/plain": [
       "0.9175257731958762"
      ]
     },
     "execution_count": 22,
     "metadata": {},
     "output_type": "execute_result"
    }
   ],
   "source": [
    "predict = SVC_k.predict(X_test)\n",
    "accuracy_score(Y_test, predict)"
   ]
  },
  {
   "cell_type": "code",
   "execution_count": 23,
   "metadata": {},
   "outputs": [
    {
     "name": "stderr",
     "output_type": "stream",
     "text": [
      "d:\\anaconda_\\lib\\site-packages\\sklearn\\svm\\_base.py:1206: ConvergenceWarning: Liblinear failed to converge, increase the number of iterations.\n",
      "  warnings.warn(\n"
     ]
    }
   ],
   "source": [
    "#2. модель з лінійним ядром і меншим С\n",
    "from sklearn.svm import LinearSVC\n",
    "Lin_SVC = LinearSVC(C=2.5).fit(X_train, Y_train)"
   ]
  },
  {
   "cell_type": "code",
   "execution_count": 24,
   "metadata": {},
   "outputs": [],
   "source": [
    "# 3. різні ступені степені, гіперпараметр коеф\n",
    "SVC_3 = SVC(kernel='poly', degree = 3, coef0 = 0).fit(X_train, Y_train)\n"
   ]
  },
  {
   "cell_type": "code",
   "execution_count": 25,
   "metadata": {},
   "outputs": [
    {
     "data": {
      "text/plain": [
       "0.8917525773195877"
      ]
     },
     "execution_count": 25,
     "metadata": {},
     "output_type": "execute_result"
    }
   ],
   "source": [
    "predict_3 = SVC_3.predict(X_test)\n",
    "accuracy_score(Y_test, predict_3)"
   ]
  },
  {
   "cell_type": "code",
   "execution_count": 26,
   "metadata": {},
   "outputs": [],
   "source": [
    "SVC_3b = SVC(kernel='poly', degree=10, coef0=0.5).fit(X_train, Y_train)"
   ]
  },
  {
   "cell_type": "code",
   "execution_count": 27,
   "metadata": {},
   "outputs": [
    {
     "data": {
      "text/plain": [
       "0.8865979381443299"
      ]
     },
     "execution_count": 27,
     "metadata": {},
     "output_type": "execute_result"
    }
   ],
   "source": [
    "predict_3b = SVC_3b.predict(X_test)\n",
    "accuracy_score(Y_test, predict_3b)"
   ]
  },
  {
   "cell_type": "code",
   "execution_count": 28,
   "metadata": {},
   "outputs": [],
   "source": [
    "#4. kerner = rbf, з ядром гаусівська радіальна базисна функція\n",
    "from sklearn.linear_model import ElasticNet\n",
    "from sklearn.model_selection import GridSearchCV\n",
    "\n",
    "kombaine = SVC(kernel='rbf')\n",
    "parameters = {'gamma': [0.1, 10],\n",
    "              'C': [0.01, 1, 100]}\n",
    "\n",
    "kombaine_gridsearch = GridSearchCV(\n",
    "    kombaine, parameters, cv=5)\n"
   ]
  },
  {
   "cell_type": "code",
   "execution_count": 29,
   "metadata": {},
   "outputs": [
    {
     "data": {
      "text/plain": [
       "GridSearchCV(cv=5, estimator=SVC(),\n",
       "             param_grid={'C': [0.01, 1, 100], 'gamma': [0.1, 10]})"
      ]
     },
     "execution_count": 29,
     "metadata": {},
     "output_type": "execute_result"
    }
   ],
   "source": [
    "kombaine_gridsearch.fit(X_train, Y_train)"
   ]
  },
  {
   "cell_type": "code",
   "execution_count": 30,
   "metadata": {},
   "outputs": [
    {
     "name": "stdout",
     "output_type": "stream",
     "text": [
      "Best score: 0.8951989945538333, Best parameters: {'C': 1, 'gamma': 0.1}\n"
     ]
    }
   ],
   "source": [
    "print(\n",
    "    f'Best score: {kombaine_gridsearch.best_score_}, Best parameters: {kombaine_gridsearch.best_params_}')\n"
   ]
  },
  {
   "cell_type": "code",
   "execution_count": 31,
   "metadata": {},
   "outputs": [
    {
     "name": "stdout",
     "output_type": "stream",
     "text": [
      "Best score: 0.8900599400599403, Best parameters: {'C': 0.01, 'degree': 0.1}\n"
     ]
    }
   ],
   "source": [
    "#5 знайти гіперпараметри С та degree решітчатим пошуком\n",
    "from sklearn.pipeline import make_pipeline\n",
    "from sklearn.preprocessing import StandardScaler\n",
    "\n",
    "grill = SVC()\n",
    "param_grid = {'C': [0.01, 1, 100],\n",
    "              'degree': [0.1, 10, 1]}\n",
    "\n",
    "grill_gridsearch = GridSearchCV(grill, param_grid, cv = 10)\n",
    "grill_gridsearch.fit(X_train, Y_train)\n",
    "print(\n",
    "    f'Best score: {grill_gridsearch.best_score_}, Best parameters: {grill_gridsearch.best_params_}')\n"
   ]
  },
  {
   "cell_type": "code",
   "execution_count": 32,
   "metadata": {},
   "outputs": [
    {
     "name": "stderr",
     "output_type": "stream",
     "text": [
      "d:\\anaconda_\\lib\\site-packages\\sklearn\\linear_model\\_logistic.py:814: ConvergenceWarning: lbfgs failed to converge (status=1):\n",
      "STOP: TOTAL NO. of ITERATIONS REACHED LIMIT.\n",
      "\n",
      "Increase the number of iterations (max_iter) or scale the data as shown in:\n",
      "    https://scikit-learn.org/stable/modules/preprocessing.html\n",
      "Please also refer to the documentation for alternative solver options:\n",
      "    https://scikit-learn.org/stable/modules/linear_model.html#logistic-regression\n",
      "  n_iter_i = _check_optimize_result(\n",
      "d:\\anaconda_\\lib\\site-packages\\sklearn\\base.py:450: UserWarning: X does not have valid feature names, but LogisticRegression was fitted with feature names\n",
      "  warnings.warn(\n",
      "d:\\anaconda_\\lib\\site-packages\\sklearn\\base.py:450: UserWarning: X does not have valid feature names, but LogisticRegression was fitted with feature names\n",
      "  warnings.warn(\n"
     ]
    },
    {
     "data": {
      "text/plain": [
       "(<Figure size 432x432 with 1 Axes>, StandardScaler(), PCA(n_components=2))"
      ]
     },
     "execution_count": 32,
     "metadata": {},
     "output_type": "execute_result"
    },
    {
     "data": {
      "image/png": "[encoded data removed]",
      "text/plain": [
       "<Figure size 432x432 with 1 Axes>"
      ]
     },
     "metadata": {
      "needs_background": "light"
     },
     "output_type": "display_data"
    }
   ],
   "source": [
    "from sklearn import datasets, linear_model, tree, ensemble\n",
    "from pylib import plot as pyplt\n",
    "model = linear_model.LogisticRegression()\n",
    "model.fit(X, Y)\n",
    "pyplt.plot_decision_boundary(model, X=X, Y=Y)"
   ]
  },
  {
   "cell_type": "code",
   "execution_count": 33,
   "metadata": {},
   "outputs": [],
   "source": [
    "#scaled\n",
    "sc = StandardScaler()\n",
    "scaler = sc.fit(X_train)\n",
    "x_train_scaled = scaler.transform(X_train)\n",
    "x_test_scaled = scaler.transform(X_test)"
   ]
  },
  {
   "cell_type": "code",
   "execution_count": 34,
   "metadata": {},
   "outputs": [],
   "source": [
    "from sklearn.neural_network import MLPClassifier\n",
    "# mlp_clf = MLPClassifier(hidden_layer_sizes=(150, 100, 50), max_iter=300, activation='relu', solver='adam', random_state=1)\n",
    "mlp_clf = MLPClassifier(max_iter=300, activation='relu', solver='adam', random_state=1)"
   ]
  },
  {
   "cell_type": "code",
   "execution_count": 35,
   "metadata": {},
   "outputs": [
    {
     "name": "stderr",
     "output_type": "stream",
     "text": [
      "d:\\anaconda_\\lib\\site-packages\\sklearn\\neural_network\\_multilayer_perceptron.py:692: ConvergenceWarning: Stochastic Optimizer: Maximum iterations (300) reached and the optimization hasn't converged yet.\n",
      "  warnings.warn(\n"
     ]
    },
    {
     "data": {
      "text/plain": [
       "MLPClassifier(max_iter=300, random_state=1)"
      ]
     },
     "execution_count": 35,
     "metadata": {},
     "output_type": "execute_result"
    }
   ],
   "source": [
    "#train first MLP\n",
    "mlp_clf.fit(x_train_scaled, Y_train)"
   ]
  },
  {
   "cell_type": "code",
   "execution_count": 36,
   "metadata": {},
   "outputs": [
    {
     "name": "stdout",
     "output_type": "stream",
     "text": [
      "Accuracy: 0.96\n"
     ]
    }
   ],
   "source": [
    "y_pred = mlp_clf.predict(x_test_scaled)\n",
    "print ('Accuracy: {:.2f}'.format(accuracy_score(Y_test, y_pred)))"
   ]
  },
  {
   "cell_type": "code",
   "execution_count": 37,
   "metadata": {},
   "outputs": [
    {
     "name": "stderr",
     "output_type": "stream",
     "text": [
      "d:\\anaconda_\\lib\\site-packages\\sklearn\\utils\\deprecation.py:87: FutureWarning: Function plot_confusion_matrix is deprecated; Function `plot_confusion_matrix` is deprecated in 1.0 and will be removed in 1.2. Use one of the class methods: ConfusionMatrixDisplay.from_predictions or ConfusionMatrixDisplay.from_estimator.\n",
      "  warnings.warn(msg, category=FutureWarning)\n"
     ]
    },
    {
     "data": {
      "image/png": "[encoded data removed]",
      "text/plain": [
       "<Figure size 432x288 with 2 Axes>"
      ]
     },
     "metadata": {
      "needs_background": "light"
     },
     "output_type": "display_data"
    }
   ],
   "source": [
    "from sklearn.metrics import plot_confusion_matrix\n",
    "fig = plot_confusion_matrix(mlp_clf, x_test_scaled, Y_test, display_labels=mlp_clf.classes_)\n",
    "fig.figure_.suptitle(\"Confusion Matrix for Websites\")\n",
    "plt.show()"
   ]
  },
  {
   "cell_type": "code",
   "execution_count": 38,
   "metadata": {},
   "outputs": [
    {
     "name": "stdout",
     "output_type": "stream",
     "text": [
      "              precision    recall  f1-score   support\n",
      "\n",
      "           0       0.97      0.98      0.98       173\n",
      "           1       0.84      0.76      0.80        21\n",
      "\n",
      "    accuracy                           0.96       194\n",
      "   macro avg       0.91      0.87      0.89       194\n",
      "weighted avg       0.96      0.96      0.96       194\n",
      "\n"
     ]
    }
   ],
   "source": [
    "from sklearn.metrics import classification_report\n",
    "print(classification_report(Y_test, y_pred))"
   ]
  },
  {
   "cell_type": "code",
   "execution_count": 39,
   "metadata": {},
   "outputs": [
    {
     "data": {
      "image/png": "[encoded data removed]",
      "text/plain": [
       "<Figure size 432x288 with 1 Axes>"
      ]
     },
     "metadata": {
      "needs_background": "light"
     },
     "output_type": "display_data"
    }
   ],
   "source": [
    "plt.plot(mlp_clf.loss_curve_)\n",
    "plt.title(\"Loss Curve\", fontsize=14)\n",
    "plt.xlabel('Iterations')\n",
    "plt.ylabel('Cost')\n",
    "plt.show()"
   ]
  },
  {
   "cell_type": "code",
   "execution_count": null,
   "metadata": {},
   "outputs": [],
   "source": [
    "Висновок\n",
    "Для даного випадку одношарової моделі також достатньо, адже результат досить високий"
   ]
  }
 ],
 "metadata": {
  "kernelspec": {
   "display_name": "Python 3.9.12 ('base')",
   "language": "python",
   "name": "python3"
  },
  "language_info": {
   "codemirror_mode": {
    "name": "ipython",
    "version": 3
   },
   "file_extension": ".py",
   "mimetype": "text/x-python",
   "name": "python",
   "nbconvert_exporter": "python",
   "pygments_lexer": "ipython3",
   "version": "3.9.12 (main, Apr  4 2022, 05:22:27) [MSC v.1916 64 bit (AMD64)]"
  },
  "orig_nbformat": 4,
  "vscode": {
   "interpreter": {
    "hash": "0e1c8ee70996e2c83c80cc5cc384a915b96f1433420c30a4c9f867864f120673"
   }
  }
 },
 "nbformat": 4,
 "nbformat_minor": 2
}
